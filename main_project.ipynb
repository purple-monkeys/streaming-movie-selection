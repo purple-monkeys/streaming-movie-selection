{
 "cells": [
  {
   "cell_type": "markdown",
   "metadata": {
    "toc": true
   },
   "source": [
    "<h1>Table of Contents<span class=\"tocSkip\"></span></h1>\n",
    "<div class=\"toc\"><ul class=\"toc-item\"><li><span><a href=\"#Microsoft-is-Joining-the-Streaming-Race\" data-toc-modified-id=\"Microsoft-is-Joining-the-Streaming-Race-1\"><span class=\"toc-item-num\">1&nbsp;&nbsp;</span>Microsoft is Joining the Streaming Race</a></span></li><li><span><a href=\"#Method\" data-toc-modified-id=\"Method-2\"><span class=\"toc-item-num\">2&nbsp;&nbsp;</span>Method</a></span></li><li><span><a href=\"#Cleaning-Data\" data-toc-modified-id=\"Cleaning-Data-3\"><span class=\"toc-item-num\">3&nbsp;&nbsp;</span>Cleaning Data</a></span></li><li><span><a href=\"#Finding-Recommended-Budget\" data-toc-modified-id=\"Finding-Recommended-Budget-4\"><span class=\"toc-item-num\">4&nbsp;&nbsp;</span>Finding Recommended Budget</a></span><ul class=\"toc-item\"><li><span><a href=\"#Top-10%-Budgets\" data-toc-modified-id=\"Top-10%-Budgets-4.1\"><span class=\"toc-item-num\">4.1&nbsp;&nbsp;</span>Top 10% Budgets</a></span></li><li><span><a href=\"#All-Budgets\" data-toc-modified-id=\"All-Budgets-4.2\"><span class=\"toc-item-num\">4.2&nbsp;&nbsp;</span>All Budgets</a></span></li><li><span><a href=\"#Top-10%-Analysis\" data-toc-modified-id=\"Top-10%-Analysis-4.3\"><span class=\"toc-item-num\">4.3&nbsp;&nbsp;</span>Top 10% Analysis</a></span></li></ul></li><li><span><a href=\"#Finding-Recommended-Release-Month\" data-toc-modified-id=\"Finding-Recommended-Release-Month-5\"><span class=\"toc-item-num\">5&nbsp;&nbsp;</span>Finding Recommended Release Month</a></span><ul class=\"toc-item\"><li><span><a href=\"#Top-10%-Release-Month\" data-toc-modified-id=\"Top-10%-Release-Month-5.1\"><span class=\"toc-item-num\">5.1&nbsp;&nbsp;</span>Top 10% Release Month</a></span></li><li><span><a href=\"#All-Release-Month\" data-toc-modified-id=\"All-Release-Month-5.2\"><span class=\"toc-item-num\">5.2&nbsp;&nbsp;</span>All Release Month</a></span></li><li><span><a href=\"#Comparison-of-Release-Months\" data-toc-modified-id=\"Comparison-of-Release-Months-5.3\"><span class=\"toc-item-num\">5.3&nbsp;&nbsp;</span>Comparison of Release Months</a></span></li></ul></li><li><span><a href=\"#Finding-Recommended-Genre\" data-toc-modified-id=\"Finding-Recommended-Genre-6\"><span class=\"toc-item-num\">6&nbsp;&nbsp;</span>Finding Recommended Genre</a></span><ul class=\"toc-item\"><li><span><a href=\"#Top-10%-Genre-Rep\" data-toc-modified-id=\"Top-10%-Genre-Rep-6.1\"><span class=\"toc-item-num\">6.1&nbsp;&nbsp;</span>Top 10% Genre Rep</a></span></li><li><span><a href=\"#All-Genre-Rep\" data-toc-modified-id=\"All-Genre-Rep-6.2\"><span class=\"toc-item-num\">6.2&nbsp;&nbsp;</span>All Genre Rep</a></span></li><li><span><a href=\"#Comparison-of-all-genres\" data-toc-modified-id=\"Comparison-of-all-genres-6.3\"><span class=\"toc-item-num\">6.3&nbsp;&nbsp;</span>Comparison of all genres</a></span></li></ul></li><li><span><a href=\"#Final-Conclusions\" data-toc-modified-id=\"Final-Conclusions-7\"><span class=\"toc-item-num\">7&nbsp;&nbsp;</span>Final Conclusions</a></span></li></ul></div>"
   ]
  },
  {
   "cell_type": "markdown",
   "metadata": {},
   "source": [
    "## Microsoft is Joining the Streaming Race\n",
    "\n",
    "Author: Katie Whitson\n",
    "\n",
    "Overview:\n",
    "Microsoft feels left out of the streaming services. They want to join Apple, Netflix, and Amazon in the original content battle. I will be showing how much money should be budgeted, when the movie should be released, and what type of movie should be produced. This will be determined from the data on Box Office Mojo, IMDB, TheMovieDB, and The Numbers. After the analysis, the head of Microsoft's movie studio should be able to better determine what to start with."
   ]
  },
  {
   "cell_type": "markdown",
   "metadata": {},
   "source": [
    "## Method\n",
    "I am determining the PIR, profit investment return, of all movies we have\n",
    "data on. I will use the top 10% to answer the following questions. Then, \n",
    "compare to the whole to see if any value is represented more in the top\n",
    "than the whole.\n",
    "\n",
    "* What should the budget be?\n",
    "* When should the release date be?\n",
    "* What genre should the movie be?"
   ]
  },
  {
   "cell_type": "markdown",
   "metadata": {},
   "source": [
    "## Cleaning Data"
   ]
  },
  {
   "cell_type": "code",
   "execution_count": 1,
   "metadata": {},
   "outputs": [],
   "source": [
    "# standard imports\n",
    "import pandas as pd\n",
    "import numpy as np\n",
    "import os\n",
    "import csv\n",
    "import matplotlib.pyplot as plt\n",
    "import seaborn as sns"
   ]
  },
  {
   "cell_type": "code",
   "execution_count": 2,
   "metadata": {},
   "outputs": [
    {
     "name": "stdout",
     "output_type": "stream",
     "text": [
      "(5782, 6)\n"
     ]
    },
    {
     "data": {
      "text/html": [
       "<div>\n",
       "<style scoped>\n",
       "    .dataframe tbody tr th:only-of-type {\n",
       "        vertical-align: middle;\n",
       "    }\n",
       "\n",
       "    .dataframe tbody tr th {\n",
       "        vertical-align: top;\n",
       "    }\n",
       "\n",
       "    .dataframe thead th {\n",
       "        text-align: right;\n",
       "    }\n",
       "</style>\n",
       "<table border=\"1\" class=\"dataframe\">\n",
       "  <thead>\n",
       "    <tr style=\"text-align: right;\">\n",
       "      <th></th>\n",
       "      <th>id</th>\n",
       "      <th>release_date</th>\n",
       "      <th>movie</th>\n",
       "      <th>production_budget</th>\n",
       "      <th>domestic_gross</th>\n",
       "      <th>worldwide_gross</th>\n",
       "    </tr>\n",
       "  </thead>\n",
       "  <tbody>\n",
       "    <tr>\n",
       "      <th>0</th>\n",
       "      <td>1</td>\n",
       "      <td>Dec 18, 2009</td>\n",
       "      <td>Avatar</td>\n",
       "      <td>$425,000,000</td>\n",
       "      <td>$760,507,625</td>\n",
       "      <td>$2,776,345,279</td>\n",
       "    </tr>\n",
       "    <tr>\n",
       "      <th>1</th>\n",
       "      <td>2</td>\n",
       "      <td>May 20, 2011</td>\n",
       "      <td>Pirates of the Caribbean: On Stranger Tides</td>\n",
       "      <td>$410,600,000</td>\n",
       "      <td>$241,063,875</td>\n",
       "      <td>$1,045,663,875</td>\n",
       "    </tr>\n",
       "    <tr>\n",
       "      <th>2</th>\n",
       "      <td>3</td>\n",
       "      <td>Jun 7, 2019</td>\n",
       "      <td>Dark Phoenix</td>\n",
       "      <td>$350,000,000</td>\n",
       "      <td>$42,762,350</td>\n",
       "      <td>$149,762,350</td>\n",
       "    </tr>\n",
       "    <tr>\n",
       "      <th>3</th>\n",
       "      <td>4</td>\n",
       "      <td>May 1, 2015</td>\n",
       "      <td>Avengers: Age of Ultron</td>\n",
       "      <td>$330,600,000</td>\n",
       "      <td>$459,005,868</td>\n",
       "      <td>$1,403,013,963</td>\n",
       "    </tr>\n",
       "    <tr>\n",
       "      <th>4</th>\n",
       "      <td>5</td>\n",
       "      <td>Dec 15, 2017</td>\n",
       "      <td>Star Wars Ep. VIII: The Last Jedi</td>\n",
       "      <td>$317,000,000</td>\n",
       "      <td>$620,181,382</td>\n",
       "      <td>$1,316,721,747</td>\n",
       "    </tr>\n",
       "  </tbody>\n",
       "</table>\n",
       "</div>"
      ],
      "text/plain": [
       "   id  release_date                                        movie  \\\n",
       "0   1  Dec 18, 2009                                       Avatar   \n",
       "1   2  May 20, 2011  Pirates of the Caribbean: On Stranger Tides   \n",
       "2   3   Jun 7, 2019                                 Dark Phoenix   \n",
       "3   4   May 1, 2015                      Avengers: Age of Ultron   \n",
       "4   5  Dec 15, 2017            Star Wars Ep. VIII: The Last Jedi   \n",
       "\n",
       "  production_budget domestic_gross worldwide_gross  \n",
       "0      $425,000,000   $760,507,625  $2,776,345,279  \n",
       "1      $410,600,000   $241,063,875  $1,045,663,875  \n",
       "2      $350,000,000    $42,762,350    $149,762,350  \n",
       "3      $330,600,000   $459,005,868  $1,403,013,963  \n",
       "4      $317,000,000   $620,181,382  $1,316,721,747  "
      ]
     },
     "execution_count": 2,
     "metadata": {},
     "output_type": "execute_result"
    }
   ],
   "source": [
    "# see what table looks like\n",
    "df_budgets = pd.read_csv('zippedData/tn.movie_budgets.csv')\n",
    "print(df_budgets.shape)\n",
    "df_budgets.head()"
   ]
  },
  {
   "cell_type": "code",
   "execution_count": 3,
   "metadata": {},
   "outputs": [
    {
     "name": "stdout",
     "output_type": "stream",
     "text": [
      "<class 'pandas.core.frame.DataFrame'>\n",
      "RangeIndex: 5782 entries, 0 to 5781\n",
      "Data columns (total 6 columns):\n",
      " #   Column             Non-Null Count  Dtype \n",
      "---  ------             --------------  ----- \n",
      " 0   id                 5782 non-null   int64 \n",
      " 1   release_date       5782 non-null   object\n",
      " 2   movie              5782 non-null   object\n",
      " 3   production_budget  5782 non-null   object\n",
      " 4   domestic_gross     5782 non-null   object\n",
      " 5   worldwide_gross    5782 non-null   object\n",
      "dtypes: int64(1), object(5)\n",
      "memory usage: 271.2+ KB\n"
     ]
    }
   ],
   "source": [
    "df_budgets.info()"
   ]
  },
  {
   "cell_type": "code",
   "execution_count": 4,
   "metadata": {},
   "outputs": [],
   "source": [
    "# Get rid of symbols or capitalizations that could hinder matching with\n",
    "# other tables. Clear out number symbols so that numbers can be integers.\n",
    "def clean_title(df, column):\n",
    "    data = df\n",
    "    data[column] = data[column].str.replace('.', '')\n",
    "    data[column] = data[column].str.replace(',', '')\n",
    "    data[column] = data[column].str.replace(':', '')\n",
    "    data[column] = data[column].str.replace('$', '')\n",
    "    data[column] = data[column].str.replace('â', '')\n",
    "    data[column] = data[column].str.lower()"
   ]
  },
  {
   "cell_type": "code",
   "execution_count": 5,
   "metadata": {},
   "outputs": [
    {
     "name": "stderr",
     "output_type": "stream",
     "text": [
      "<ipython-input-4-9006c6fcf56e>:5: FutureWarning: The default value of regex will change from True to False in a future version. In addition, single character regular expressions will*not* be treated as literal strings when regex=True.\n",
      "  data[column] = data[column].str.replace('.', '')\n",
      "<ipython-input-4-9006c6fcf56e>:8: FutureWarning: The default value of regex will change from True to False in a future version. In addition, single character regular expressions will*not* be treated as literal strings when regex=True.\n",
      "  data[column] = data[column].str.replace('$', '')\n"
     ]
    },
    {
     "data": {
      "text/html": [
       "<div>\n",
       "<style scoped>\n",
       "    .dataframe tbody tr th:only-of-type {\n",
       "        vertical-align: middle;\n",
       "    }\n",
       "\n",
       "    .dataframe tbody tr th {\n",
       "        vertical-align: top;\n",
       "    }\n",
       "\n",
       "    .dataframe thead th {\n",
       "        text-align: right;\n",
       "    }\n",
       "</style>\n",
       "<table border=\"1\" class=\"dataframe\">\n",
       "  <thead>\n",
       "    <tr style=\"text-align: right;\">\n",
       "      <th></th>\n",
       "      <th>id</th>\n",
       "      <th>release_date</th>\n",
       "      <th>movie</th>\n",
       "      <th>production_budget</th>\n",
       "      <th>domestic_gross</th>\n",
       "      <th>worldwide_gross</th>\n",
       "    </tr>\n",
       "  </thead>\n",
       "  <tbody>\n",
       "    <tr>\n",
       "      <th>0</th>\n",
       "      <td>1</td>\n",
       "      <td>Dec 18, 2009</td>\n",
       "      <td>avatar</td>\n",
       "      <td>425000000</td>\n",
       "      <td>760507625</td>\n",
       "      <td>2776345279</td>\n",
       "    </tr>\n",
       "    <tr>\n",
       "      <th>1</th>\n",
       "      <td>2</td>\n",
       "      <td>May 20, 2011</td>\n",
       "      <td>pirates of the caribbean on stranger tides</td>\n",
       "      <td>410600000</td>\n",
       "      <td>241063875</td>\n",
       "      <td>1045663875</td>\n",
       "    </tr>\n",
       "    <tr>\n",
       "      <th>2</th>\n",
       "      <td>3</td>\n",
       "      <td>Jun 7, 2019</td>\n",
       "      <td>dark phoenix</td>\n",
       "      <td>350000000</td>\n",
       "      <td>42762350</td>\n",
       "      <td>149762350</td>\n",
       "    </tr>\n",
       "    <tr>\n",
       "      <th>3</th>\n",
       "      <td>4</td>\n",
       "      <td>May 1, 2015</td>\n",
       "      <td>avengers age of ultron</td>\n",
       "      <td>330600000</td>\n",
       "      <td>459005868</td>\n",
       "      <td>1403013963</td>\n",
       "    </tr>\n",
       "    <tr>\n",
       "      <th>4</th>\n",
       "      <td>5</td>\n",
       "      <td>Dec 15, 2017</td>\n",
       "      <td>star wars ep viii the last jedi</td>\n",
       "      <td>317000000</td>\n",
       "      <td>620181382</td>\n",
       "      <td>1316721747</td>\n",
       "    </tr>\n",
       "  </tbody>\n",
       "</table>\n",
       "</div>"
      ],
      "text/plain": [
       "   id  release_date                                       movie  \\\n",
       "0   1  Dec 18, 2009                                      avatar   \n",
       "1   2  May 20, 2011  pirates of the caribbean on stranger tides   \n",
       "2   3   Jun 7, 2019                                dark phoenix   \n",
       "3   4   May 1, 2015                      avengers age of ultron   \n",
       "4   5  Dec 15, 2017             star wars ep viii the last jedi   \n",
       "\n",
       "  production_budget domestic_gross worldwide_gross  \n",
       "0         425000000      760507625      2776345279  \n",
       "1         410600000      241063875      1045663875  \n",
       "2         350000000       42762350       149762350  \n",
       "3         330600000      459005868      1403013963  \n",
       "4         317000000      620181382      1316721747  "
      ]
     },
     "execution_count": 5,
     "metadata": {},
     "output_type": "execute_result"
    }
   ],
   "source": [
    "#removing punctuation and capitalization to better match others\n",
    "clean_title(df_budgets, 'movie')\n",
    "clean_title(df_budgets, 'production_budget')\n",
    "clean_title(df_budgets, 'domestic_gross')\n",
    "clean_title(df_budgets, 'worldwide_gross')\n",
    "df_budgets.head()"
   ]
  },
  {
   "cell_type": "code",
   "execution_count": 6,
   "metadata": {},
   "outputs": [
    {
     "name": "stdout",
     "output_type": "stream",
     "text": [
      "<class 'pandas.core.frame.DataFrame'>\n",
      "RangeIndex: 5782 entries, 0 to 5781\n",
      "Data columns (total 6 columns):\n",
      " #   Column             Non-Null Count  Dtype \n",
      "---  ------             --------------  ----- \n",
      " 0   id                 5782 non-null   int64 \n",
      " 1   release_date       5782 non-null   object\n",
      " 2   movie              5782 non-null   object\n",
      " 3   production_budget  5782 non-null   int64 \n",
      " 4   domestic_gross     5782 non-null   int64 \n",
      " 5   worldwide_gross    5782 non-null   int64 \n",
      "dtypes: int64(4), object(2)\n",
      "memory usage: 271.2+ KB\n"
     ]
    }
   ],
   "source": [
    "# converting money to be integers for future calculations\n",
    "convert_dict = {'production_budget': int,\n",
    "                'domestic_gross': int,\n",
    "                'worldwide_gross': int} \n",
    "df_budgets = df_budgets.astype(convert_dict)  \n",
    "df_budgets.info()"
   ]
  },
  {
   "cell_type": "code",
   "execution_count": 7,
   "metadata": {},
   "outputs": [],
   "source": [
    "#creating domestic PIR\n",
    "df_budgets['domestic_pir'] = df_budgets['domestic_gross']/df_budgets['production_budget']"
   ]
  },
  {
   "cell_type": "code",
   "execution_count": 8,
   "metadata": {},
   "outputs": [],
   "source": [
    "#creating worldwide PIR\n",
    "df_budgets['worldwide_pir'] = df_budgets['worldwide_gross']/df_budgets['production_budget']"
   ]
  },
  {
   "cell_type": "code",
   "execution_count": 9,
   "metadata": {},
   "outputs": [
    {
     "data": {
      "text/html": [
       "<div>\n",
       "<style scoped>\n",
       "    .dataframe tbody tr th:only-of-type {\n",
       "        vertical-align: middle;\n",
       "    }\n",
       "\n",
       "    .dataframe tbody tr th {\n",
       "        vertical-align: top;\n",
       "    }\n",
       "\n",
       "    .dataframe thead th {\n",
       "        text-align: right;\n",
       "    }\n",
       "</style>\n",
       "<table border=\"1\" class=\"dataframe\">\n",
       "  <thead>\n",
       "    <tr style=\"text-align: right;\">\n",
       "      <th></th>\n",
       "      <th>id</th>\n",
       "      <th>release_date</th>\n",
       "      <th>movie</th>\n",
       "      <th>production_budget</th>\n",
       "      <th>domestic_gross</th>\n",
       "      <th>worldwide_gross</th>\n",
       "      <th>domestic_pir</th>\n",
       "      <th>worldwide_pir</th>\n",
       "    </tr>\n",
       "  </thead>\n",
       "  <tbody>\n",
       "    <tr>\n",
       "      <th>0</th>\n",
       "      <td>1</td>\n",
       "      <td>2009-12-18</td>\n",
       "      <td>avatar</td>\n",
       "      <td>425000000</td>\n",
       "      <td>760507625</td>\n",
       "      <td>2776345279</td>\n",
       "      <td>1.789430</td>\n",
       "      <td>6.532577</td>\n",
       "    </tr>\n",
       "    <tr>\n",
       "      <th>1</th>\n",
       "      <td>2</td>\n",
       "      <td>2011-05-20</td>\n",
       "      <td>pirates of the caribbean on stranger tides</td>\n",
       "      <td>410600000</td>\n",
       "      <td>241063875</td>\n",
       "      <td>1045663875</td>\n",
       "      <td>0.587101</td>\n",
       "      <td>2.546673</td>\n",
       "    </tr>\n",
       "    <tr>\n",
       "      <th>2</th>\n",
       "      <td>3</td>\n",
       "      <td>2019-06-07</td>\n",
       "      <td>dark phoenix</td>\n",
       "      <td>350000000</td>\n",
       "      <td>42762350</td>\n",
       "      <td>149762350</td>\n",
       "      <td>0.122178</td>\n",
       "      <td>0.427892</td>\n",
       "    </tr>\n",
       "    <tr>\n",
       "      <th>3</th>\n",
       "      <td>4</td>\n",
       "      <td>2015-05-01</td>\n",
       "      <td>avengers age of ultron</td>\n",
       "      <td>330600000</td>\n",
       "      <td>459005868</td>\n",
       "      <td>1403013963</td>\n",
       "      <td>1.388403</td>\n",
       "      <td>4.243841</td>\n",
       "    </tr>\n",
       "    <tr>\n",
       "      <th>4</th>\n",
       "      <td>5</td>\n",
       "      <td>2017-12-15</td>\n",
       "      <td>star wars ep viii the last jedi</td>\n",
       "      <td>317000000</td>\n",
       "      <td>620181382</td>\n",
       "      <td>1316721747</td>\n",
       "      <td>1.956408</td>\n",
       "      <td>4.153696</td>\n",
       "    </tr>\n",
       "  </tbody>\n",
       "</table>\n",
       "</div>"
      ],
      "text/plain": [
       "   id release_date                                       movie  \\\n",
       "0   1   2009-12-18                                      avatar   \n",
       "1   2   2011-05-20  pirates of the caribbean on stranger tides   \n",
       "2   3   2019-06-07                                dark phoenix   \n",
       "3   4   2015-05-01                      avengers age of ultron   \n",
       "4   5   2017-12-15             star wars ep viii the last jedi   \n",
       "\n",
       "   production_budget  domestic_gross  worldwide_gross  domestic_pir  \\\n",
       "0          425000000       760507625       2776345279      1.789430   \n",
       "1          410600000       241063875       1045663875      0.587101   \n",
       "2          350000000        42762350        149762350      0.122178   \n",
       "3          330600000       459005868       1403013963      1.388403   \n",
       "4          317000000       620181382       1316721747      1.956408   \n",
       "\n",
       "   worldwide_pir  \n",
       "0       6.532577  \n",
       "1       2.546673  \n",
       "2       0.427892  \n",
       "3       4.243841  \n",
       "4       4.153696  "
      ]
     },
     "execution_count": 9,
     "metadata": {},
     "output_type": "execute_result"
    }
   ],
   "source": [
    "#fixing dates to be organized by year-month-date in numbers\n",
    "df_budgets['release_date'] = pd.to_datetime(df_budgets['release_date'])\n",
    "df_budgets.head()"
   ]
  },
  {
   "cell_type": "code",
   "execution_count": 10,
   "metadata": {},
   "outputs": [],
   "source": [
    "#create new modified table from transformed data\n",
    "df_budgets.to_csv('zippedData/tn.movie_budgets_pir.csv')"
   ]
  },
  {
   "cell_type": "code",
   "execution_count": 11,
   "metadata": {},
   "outputs": [
    {
     "name": "stdout",
     "output_type": "stream",
     "text": [
      "(146144, 6)\n"
     ]
    },
    {
     "data": {
      "text/html": [
       "<div>\n",
       "<style scoped>\n",
       "    .dataframe tbody tr th:only-of-type {\n",
       "        vertical-align: middle;\n",
       "    }\n",
       "\n",
       "    .dataframe tbody tr th {\n",
       "        vertical-align: top;\n",
       "    }\n",
       "\n",
       "    .dataframe thead th {\n",
       "        text-align: right;\n",
       "    }\n",
       "</style>\n",
       "<table border=\"1\" class=\"dataframe\">\n",
       "  <thead>\n",
       "    <tr style=\"text-align: right;\">\n",
       "      <th></th>\n",
       "      <th>tconst</th>\n",
       "      <th>primary_title</th>\n",
       "      <th>original_title</th>\n",
       "      <th>start_year</th>\n",
       "      <th>runtime_minutes</th>\n",
       "      <th>genres</th>\n",
       "    </tr>\n",
       "  </thead>\n",
       "  <tbody>\n",
       "    <tr>\n",
       "      <th>0</th>\n",
       "      <td>tt0063540</td>\n",
       "      <td>Sunghursh</td>\n",
       "      <td>Sunghursh</td>\n",
       "      <td>2013</td>\n",
       "      <td>175.0</td>\n",
       "      <td>Action,Crime,Drama</td>\n",
       "    </tr>\n",
       "    <tr>\n",
       "      <th>1</th>\n",
       "      <td>tt0066787</td>\n",
       "      <td>One Day Before the Rainy Season</td>\n",
       "      <td>Ashad Ka Ek Din</td>\n",
       "      <td>2019</td>\n",
       "      <td>114.0</td>\n",
       "      <td>Biography,Drama</td>\n",
       "    </tr>\n",
       "    <tr>\n",
       "      <th>2</th>\n",
       "      <td>tt0069049</td>\n",
       "      <td>The Other Side of the Wind</td>\n",
       "      <td>The Other Side of the Wind</td>\n",
       "      <td>2018</td>\n",
       "      <td>122.0</td>\n",
       "      <td>Drama</td>\n",
       "    </tr>\n",
       "    <tr>\n",
       "      <th>3</th>\n",
       "      <td>tt0069204</td>\n",
       "      <td>Sabse Bada Sukh</td>\n",
       "      <td>Sabse Bada Sukh</td>\n",
       "      <td>2018</td>\n",
       "      <td>NaN</td>\n",
       "      <td>Comedy,Drama</td>\n",
       "    </tr>\n",
       "    <tr>\n",
       "      <th>4</th>\n",
       "      <td>tt0100275</td>\n",
       "      <td>The Wandering Soap Opera</td>\n",
       "      <td>La Telenovela Errante</td>\n",
       "      <td>2017</td>\n",
       "      <td>80.0</td>\n",
       "      <td>Comedy,Drama,Fantasy</td>\n",
       "    </tr>\n",
       "  </tbody>\n",
       "</table>\n",
       "</div>"
      ],
      "text/plain": [
       "      tconst                    primary_title              original_title  \\\n",
       "0  tt0063540                        Sunghursh                   Sunghursh   \n",
       "1  tt0066787  One Day Before the Rainy Season             Ashad Ka Ek Din   \n",
       "2  tt0069049       The Other Side of the Wind  The Other Side of the Wind   \n",
       "3  tt0069204                  Sabse Bada Sukh             Sabse Bada Sukh   \n",
       "4  tt0100275         The Wandering Soap Opera       La Telenovela Errante   \n",
       "\n",
       "   start_year  runtime_minutes                genres  \n",
       "0        2013            175.0    Action,Crime,Drama  \n",
       "1        2019            114.0       Biography,Drama  \n",
       "2        2018            122.0                 Drama  \n",
       "3        2018              NaN          Comedy,Drama  \n",
       "4        2017             80.0  Comedy,Drama,Fantasy  "
      ]
     },
     "execution_count": 11,
     "metadata": {},
     "output_type": "execute_result"
    }
   ],
   "source": [
    "#clean basic's table \n",
    "df_basics = pd.read_csv('zippedData/imdb.title.basics.csv')\n",
    "\n",
    "print(df_basics.shape)\n",
    "df_basics.head()"
   ]
  },
  {
   "cell_type": "code",
   "execution_count": 12,
   "metadata": {},
   "outputs": [
    {
     "name": "stderr",
     "output_type": "stream",
     "text": [
      "<ipython-input-4-9006c6fcf56e>:5: FutureWarning: The default value of regex will change from True to False in a future version. In addition, single character regular expressions will*not* be treated as literal strings when regex=True.\n",
      "  data[column] = data[column].str.replace('.', '')\n",
      "<ipython-input-4-9006c6fcf56e>:8: FutureWarning: The default value of regex will change from True to False in a future version. In addition, single character regular expressions will*not* be treated as literal strings when regex=True.\n",
      "  data[column] = data[column].str.replace('$', '')\n"
     ]
    }
   ],
   "source": [
    "#removing punctuation and capitalization to better match others\n",
    "clean_title(df_basics, 'primary_title')\n",
    "clean_title(df_basics, 'original_title')"
   ]
  },
  {
   "cell_type": "code",
   "execution_count": 13,
   "metadata": {},
   "outputs": [
    {
     "data": {
      "text/html": [
       "<div>\n",
       "<style scoped>\n",
       "    .dataframe tbody tr th:only-of-type {\n",
       "        vertical-align: middle;\n",
       "    }\n",
       "\n",
       "    .dataframe tbody tr th {\n",
       "        vertical-align: top;\n",
       "    }\n",
       "\n",
       "    .dataframe thead th {\n",
       "        text-align: right;\n",
       "    }\n",
       "</style>\n",
       "<table border=\"1\" class=\"dataframe\">\n",
       "  <thead>\n",
       "    <tr style=\"text-align: right;\">\n",
       "      <th></th>\n",
       "      <th>tconst</th>\n",
       "      <th>primary_title</th>\n",
       "      <th>original_title</th>\n",
       "      <th>start_year</th>\n",
       "      <th>runtime_minutes</th>\n",
       "      <th>genre_1</th>\n",
       "      <th>genre_2</th>\n",
       "    </tr>\n",
       "  </thead>\n",
       "  <tbody>\n",
       "    <tr>\n",
       "      <th>0</th>\n",
       "      <td>tt0063540</td>\n",
       "      <td>sunghursh</td>\n",
       "      <td>sunghursh</td>\n",
       "      <td>2013</td>\n",
       "      <td>175.0</td>\n",
       "      <td>Action</td>\n",
       "      <td>Crime,Drama</td>\n",
       "    </tr>\n",
       "    <tr>\n",
       "      <th>1</th>\n",
       "      <td>tt0066787</td>\n",
       "      <td>one day before the rainy season</td>\n",
       "      <td>ashad ka ek din</td>\n",
       "      <td>2019</td>\n",
       "      <td>114.0</td>\n",
       "      <td>Biography</td>\n",
       "      <td>Drama</td>\n",
       "    </tr>\n",
       "    <tr>\n",
       "      <th>2</th>\n",
       "      <td>tt0069049</td>\n",
       "      <td>the other side of the wind</td>\n",
       "      <td>the other side of the wind</td>\n",
       "      <td>2018</td>\n",
       "      <td>122.0</td>\n",
       "      <td>Drama</td>\n",
       "      <td>None</td>\n",
       "    </tr>\n",
       "    <tr>\n",
       "      <th>3</th>\n",
       "      <td>tt0069204</td>\n",
       "      <td>sabse bada sukh</td>\n",
       "      <td>sabse bada sukh</td>\n",
       "      <td>2018</td>\n",
       "      <td>NaN</td>\n",
       "      <td>Comedy</td>\n",
       "      <td>Drama</td>\n",
       "    </tr>\n",
       "    <tr>\n",
       "      <th>4</th>\n",
       "      <td>tt0100275</td>\n",
       "      <td>the wandering soap opera</td>\n",
       "      <td>la telenovela errante</td>\n",
       "      <td>2017</td>\n",
       "      <td>80.0</td>\n",
       "      <td>Comedy</td>\n",
       "      <td>Drama,Fantasy</td>\n",
       "    </tr>\n",
       "  </tbody>\n",
       "</table>\n",
       "</div>"
      ],
      "text/plain": [
       "      tconst                    primary_title              original_title  \\\n",
       "0  tt0063540                        sunghursh                   sunghursh   \n",
       "1  tt0066787  one day before the rainy season             ashad ka ek din   \n",
       "2  tt0069049       the other side of the wind  the other side of the wind   \n",
       "3  tt0069204                  sabse bada sukh             sabse bada sukh   \n",
       "4  tt0100275         the wandering soap opera       la telenovela errante   \n",
       "\n",
       "   start_year  runtime_minutes    genre_1        genre_2  \n",
       "0        2013            175.0     Action    Crime,Drama  \n",
       "1        2019            114.0  Biography          Drama  \n",
       "2        2018            122.0      Drama           None  \n",
       "3        2018              NaN     Comedy          Drama  \n",
       "4        2017             80.0     Comedy  Drama,Fantasy  "
      ]
     },
     "execution_count": 13,
     "metadata": {},
     "output_type": "execute_result"
    }
   ],
   "source": [
    "# split genres until all are in their own\n",
    "new_basics = df_basics['genres'].str.split(\",\", n = 1, expand = True)\n",
    "df_basics['genre_1']= new_basics[0]\n",
    "df_basics['genre_2']= new_basics[1]\n",
    "df_basics.drop(columns =['genres'], inplace = True)\n",
    "df_basics.head()"
   ]
  },
  {
   "cell_type": "code",
   "execution_count": 14,
   "metadata": {},
   "outputs": [
    {
     "data": {
      "text/html": [
       "<div>\n",
       "<style scoped>\n",
       "    .dataframe tbody tr th:only-of-type {\n",
       "        vertical-align: middle;\n",
       "    }\n",
       "\n",
       "    .dataframe tbody tr th {\n",
       "        vertical-align: top;\n",
       "    }\n",
       "\n",
       "    .dataframe thead th {\n",
       "        text-align: right;\n",
       "    }\n",
       "</style>\n",
       "<table border=\"1\" class=\"dataframe\">\n",
       "  <thead>\n",
       "    <tr style=\"text-align: right;\">\n",
       "      <th></th>\n",
       "      <th>tconst</th>\n",
       "      <th>primary_title</th>\n",
       "      <th>original_title</th>\n",
       "      <th>start_year</th>\n",
       "      <th>runtime_minutes</th>\n",
       "      <th>genre_1</th>\n",
       "      <th>genre_2</th>\n",
       "      <th>genre_3</th>\n",
       "    </tr>\n",
       "  </thead>\n",
       "  <tbody>\n",
       "    <tr>\n",
       "      <th>0</th>\n",
       "      <td>tt0063540</td>\n",
       "      <td>sunghursh</td>\n",
       "      <td>sunghursh</td>\n",
       "      <td>2013</td>\n",
       "      <td>175.0</td>\n",
       "      <td>Action</td>\n",
       "      <td>Crime</td>\n",
       "      <td>Drama</td>\n",
       "    </tr>\n",
       "    <tr>\n",
       "      <th>1</th>\n",
       "      <td>tt0066787</td>\n",
       "      <td>one day before the rainy season</td>\n",
       "      <td>ashad ka ek din</td>\n",
       "      <td>2019</td>\n",
       "      <td>114.0</td>\n",
       "      <td>Biography</td>\n",
       "      <td>Drama</td>\n",
       "      <td>None</td>\n",
       "    </tr>\n",
       "    <tr>\n",
       "      <th>2</th>\n",
       "      <td>tt0069049</td>\n",
       "      <td>the other side of the wind</td>\n",
       "      <td>the other side of the wind</td>\n",
       "      <td>2018</td>\n",
       "      <td>122.0</td>\n",
       "      <td>Drama</td>\n",
       "      <td>None</td>\n",
       "      <td>None</td>\n",
       "    </tr>\n",
       "    <tr>\n",
       "      <th>3</th>\n",
       "      <td>tt0069204</td>\n",
       "      <td>sabse bada sukh</td>\n",
       "      <td>sabse bada sukh</td>\n",
       "      <td>2018</td>\n",
       "      <td>NaN</td>\n",
       "      <td>Comedy</td>\n",
       "      <td>Drama</td>\n",
       "      <td>None</td>\n",
       "    </tr>\n",
       "    <tr>\n",
       "      <th>4</th>\n",
       "      <td>tt0100275</td>\n",
       "      <td>the wandering soap opera</td>\n",
       "      <td>la telenovela errante</td>\n",
       "      <td>2017</td>\n",
       "      <td>80.0</td>\n",
       "      <td>Comedy</td>\n",
       "      <td>Drama</td>\n",
       "      <td>Fantasy</td>\n",
       "    </tr>\n",
       "  </tbody>\n",
       "</table>\n",
       "</div>"
      ],
      "text/plain": [
       "      tconst                    primary_title              original_title  \\\n",
       "0  tt0063540                        sunghursh                   sunghursh   \n",
       "1  tt0066787  one day before the rainy season             ashad ka ek din   \n",
       "2  tt0069049       the other side of the wind  the other side of the wind   \n",
       "3  tt0069204                  sabse bada sukh             sabse bada sukh   \n",
       "4  tt0100275         the wandering soap opera       la telenovela errante   \n",
       "\n",
       "   start_year  runtime_minutes    genre_1 genre_2  genre_3  \n",
       "0        2013            175.0     Action   Crime    Drama  \n",
       "1        2019            114.0  Biography   Drama     None  \n",
       "2        2018            122.0      Drama    None     None  \n",
       "3        2018              NaN     Comedy   Drama     None  \n",
       "4        2017             80.0     Comedy   Drama  Fantasy  "
      ]
     },
     "execution_count": 14,
     "metadata": {},
     "output_type": "execute_result"
    }
   ],
   "source": [
    "new_basics = df_basics['genre_2'].str.split(\",\", n = 1, expand = True)\n",
    "df_basics['genre_2']= new_basics[0]\n",
    "df_basics['genre_3']= new_basics[1]\n",
    "df_basics.head()"
   ]
  },
  {
   "cell_type": "code",
   "execution_count": 15,
   "metadata": {},
   "outputs": [
    {
     "name": "stdout",
     "output_type": "stream",
     "text": [
      "['Drama' None 'Fantasy' 'Comedy' 'History' nan 'Sci-Fi' 'Thriller'\n",
      " 'Romance' 'War' 'Crime' 'Family' 'Music' 'Horror' 'Animation' 'Sport'\n",
      " 'Western' 'Mystery' 'Documentary' 'Musical' 'Biography' 'News'\n",
      " 'Reality-TV' 'Short']\n",
      "['Crime' 'Drama' None 'Thriller' 'Animation' 'History' nan 'Mystery'\n",
      " 'Comedy' 'Adventure' 'Romance' 'Horror' 'Family' 'Sci-Fi' 'Fantasy'\n",
      " 'Sport' 'Documentary' 'Music' 'War' 'Biography' 'Musical' 'Western'\n",
      " 'News' 'Reality-TV' 'Talk-Show' 'Game-Show' 'Adult' 'Short']\n",
      "['Action' 'Biography' 'Drama' 'Comedy' 'Horror' 'Adventure' 'Documentary'\n",
      " 'History' 'Animation' nan 'Crime' 'Sci-Fi' 'Thriller' 'Fantasy' 'Mystery'\n",
      " 'Musical' 'Family' 'Western' 'Romance' 'Sport' 'Adult' 'Music' 'News'\n",
      " 'Talk-Show' 'Reality-TV' 'War' 'Game-Show' 'Short']\n"
     ]
    }
   ],
   "source": [
    "# shows no more \"doubled\" genres columns\n",
    "print(df_basics['genre_3'].unique())\n",
    "print(df_basics['genre_2'].unique())\n",
    "print(df_basics['genre_1'].unique())"
   ]
  },
  {
   "cell_type": "code",
   "execution_count": 16,
   "metadata": {},
   "outputs": [
    {
     "name": "stdout",
     "output_type": "stream",
     "text": [
      "budgets table length is 5782\n",
      "genres table length is 146144\n"
     ]
    }
   ],
   "source": [
    "print('budgets table length is',len(df_budgets['movie']))\n",
    "print('genres table length is',len(df_basics['primary_title']))"
   ]
  },
  {
   "cell_type": "code",
   "execution_count": 17,
   "metadata": {},
   "outputs": [],
   "source": [
    "#create new modified table from transformed data\n",
    "df_basics.to_csv('zippedData/genres.cleaned.csv')"
   ]
  },
  {
   "cell_type": "code",
   "execution_count": 18,
   "metadata": {},
   "outputs": [
    {
     "name": "stderr",
     "output_type": "stream",
     "text": [
      "/opt/anaconda3/lib/python3.8/site-packages/pandas/core/generic.py:2779: UserWarning: The spaces in these column names will not be changed. In pandas versions < 0.14, spaces were converted to underscores.\n",
      "  sql.to_sql(\n"
     ]
    }
   ],
   "source": [
    "# use sql to analyze further\n",
    "import sqlite3\n",
    "\n",
    "conn = sqlite3.connect('movies.db')\n",
    " \n",
    "# Create a cursor object\n",
    "cur = conn.cursor()\n",
    " \n",
    "# Create table in sqlite3\n",
    "cur.execute('''CREATE TABLE IF NOT EXISTS basics (\n",
    "    id integer,\n",
    "    release_date date,\n",
    "    movie_title text PRIMARY KEY, \n",
    "    domestic_gross integer,\n",
    "    worldwide_gross integer,\n",
    "    domestic_PIR integer,\n",
    "    worldwide_PIR integer)\n",
    ";''')\n",
    "\n",
    "cur.execute('''CREATE TABLE IF NOT EXISTS genres (\n",
    "    tconst text,\n",
    "    movie_title text PRIMARY KEY,\n",
    "    start_year date,\n",
    "    runtime_min integer,\n",
    "    genre_1 text,\n",
    "    genre_2 text\n",
    "    genre_3 text)\n",
    ";''')\n",
    "\n",
    "# Load CSV data into Pandas DataFrame\n",
    "basics = pd.read_csv('zippedData/tn.movie_budgets_pir.csv')\n",
    "genres = pd.read_csv('zippedData/genres.cleaned.csv')\n",
    " \n",
    "# Write the data to a sqlite db table\n",
    "basics.to_sql('basics', conn, if_exists='replace', index=False)\n",
    "genres.to_sql('genres', conn, if_exists='replace', index=False)"
   ]
  },
  {
   "cell_type": "markdown",
   "metadata": {},
   "source": [
    "## Finding Recommended Budget\n",
    "\n",
    "Find top 10% movie budgets for movies in the last 10 years. To qualify, I am setting the requirement of having made a minimum of the budget back in domestic sales and having made money internationally. This gives a total of 739 qualifying movies. Top 10% is being rounded to be the top 74 movies."
   ]
  },
  {
   "cell_type": "markdown",
   "metadata": {},
   "source": [
    "### Top 10% Budgets"
   ]
  },
  {
   "cell_type": "code",
   "execution_count": 19,
   "metadata": {
    "scrolled": true
   },
   "outputs": [
    {
     "data": {
      "text/plain": [
       "74"
      ]
     },
     "execution_count": 19,
     "metadata": {},
     "output_type": "execute_result"
    }
   ],
   "source": [
    "top_budgets = pd.read_sql('''\n",
    "    SELECT production_budget, worldwide_pir \n",
    "    FROM basics\n",
    "    WHERE release_date >= 2011\n",
    "    AND domestic_gross > 0\n",
    "    AND domestic_pir > 1\n",
    "    ORDER BY worldwide_pir DESC\n",
    "    LIMIT 74\n",
    "    ;''', conn)\n",
    "len(top_budgets)"
   ]
  },
  {
   "cell_type": "code",
   "execution_count": 20,
   "metadata": {},
   "outputs": [
    {
     "data": {
      "text/html": [
       "<div>\n",
       "<style scoped>\n",
       "    .dataframe tbody tr th:only-of-type {\n",
       "        vertical-align: middle;\n",
       "    }\n",
       "\n",
       "    .dataframe tbody tr th {\n",
       "        vertical-align: top;\n",
       "    }\n",
       "\n",
       "    .dataframe thead th {\n",
       "        text-align: right;\n",
       "    }\n",
       "</style>\n",
       "<table border=\"1\" class=\"dataframe\">\n",
       "  <thead>\n",
       "    <tr style=\"text-align: right;\">\n",
       "      <th></th>\n",
       "      <th>production_budget</th>\n",
       "      <th>worldwide_pir</th>\n",
       "      <th>budgetbin</th>\n",
       "    </tr>\n",
       "  </thead>\n",
       "  <tbody>\n",
       "    <tr>\n",
       "      <th>0</th>\n",
       "      <td>100000</td>\n",
       "      <td>416.564740</td>\n",
       "      <td>0-13224000</td>\n",
       "    </tr>\n",
       "    <tr>\n",
       "      <th>1</th>\n",
       "      <td>1000000</td>\n",
       "      <td>101.759490</td>\n",
       "      <td>0-13224000</td>\n",
       "    </tr>\n",
       "    <tr>\n",
       "      <th>2</th>\n",
       "      <td>1500000</td>\n",
       "      <td>66.580591</td>\n",
       "      <td>0-13224000</td>\n",
       "    </tr>\n",
       "    <tr>\n",
       "      <th>3</th>\n",
       "      <td>1000000</td>\n",
       "      <td>64.364198</td>\n",
       "      <td>0-13224000</td>\n",
       "    </tr>\n",
       "    <tr>\n",
       "      <th>4</th>\n",
       "      <td>5000000</td>\n",
       "      <td>55.792961</td>\n",
       "      <td>0-13224000</td>\n",
       "    </tr>\n",
       "  </tbody>\n",
       "</table>\n",
       "</div>"
      ],
      "text/plain": [
       "   production_budget  worldwide_pir   budgetbin\n",
       "0             100000     416.564740  0-13224000\n",
       "1            1000000     101.759490  0-13224000\n",
       "2            1500000      66.580591  0-13224000\n",
       "3            1000000      64.364198  0-13224000\n",
       "4            5000000      55.792961  0-13224000"
      ]
     },
     "execution_count": 20,
     "metadata": {},
     "output_type": "execute_result"
    }
   ],
   "source": [
    "# $330,600,000 is max budget, bins of $13,224,000 give 25 bins\n",
    "#there were no films with a budget in a bin larger than $79,344,000\n",
    "cut_labels = [str(i*13224000) + '-' + str((i+1)*13224000) \n",
    "              for i in range(0,6)]\n",
    "cut_bins = list(range(0, 92568000, 13224000))\n",
    "top_budgets['budgetbin'] = pd.cut(top_budgets['production_budget'], \n",
    "                            bins=cut_bins, labels=cut_labels)\n",
    "top_budgets.head()"
   ]
  },
  {
   "cell_type": "code",
   "execution_count": 21,
   "metadata": {},
   "outputs": [
    {
     "data": {
      "text/html": [
       "<div>\n",
       "<style scoped>\n",
       "    .dataframe tbody tr th:only-of-type {\n",
       "        vertical-align: middle;\n",
       "    }\n",
       "\n",
       "    .dataframe tbody tr th {\n",
       "        vertical-align: top;\n",
       "    }\n",
       "\n",
       "    .dataframe thead th {\n",
       "        text-align: right;\n",
       "    }\n",
       "</style>\n",
       "<table border=\"1\" class=\"dataframe\">\n",
       "  <thead>\n",
       "    <tr style=\"text-align: right;\">\n",
       "      <th></th>\n",
       "      <th>budgetbin</th>\n",
       "      <th>production_budget</th>\n",
       "      <th>worldwide_pir</th>\n",
       "    </tr>\n",
       "  </thead>\n",
       "  <tbody>\n",
       "    <tr>\n",
       "      <th>0</th>\n",
       "      <td>0-13224000</td>\n",
       "      <td>4000000</td>\n",
       "      <td>23.969023</td>\n",
       "    </tr>\n",
       "    <tr>\n",
       "      <th>1</th>\n",
       "      <td>13224000-26448000</td>\n",
       "      <td>20000000</td>\n",
       "      <td>15.206467</td>\n",
       "    </tr>\n",
       "    <tr>\n",
       "      <th>2</th>\n",
       "      <td>26448000-39672000</td>\n",
       "      <td>35000000</td>\n",
       "      <td>19.927371</td>\n",
       "    </tr>\n",
       "    <tr>\n",
       "      <th>3</th>\n",
       "      <td>39672000-52896000</td>\n",
       "      <td>40000000</td>\n",
       "      <td>14.274953</td>\n",
       "    </tr>\n",
       "    <tr>\n",
       "      <th>4</th>\n",
       "      <td>52896000-66120000</td>\n",
       "      <td>56500000</td>\n",
       "      <td>15.041623</td>\n",
       "    </tr>\n",
       "    <tr>\n",
       "      <th>5</th>\n",
       "      <td>66120000-79344000</td>\n",
       "      <td>75000000</td>\n",
       "      <td>13.796370</td>\n",
       "    </tr>\n",
       "  </tbody>\n",
       "</table>\n",
       "</div>"
      ],
      "text/plain": [
       "           budgetbin  production_budget  worldwide_pir\n",
       "0         0-13224000            4000000      23.969023\n",
       "1  13224000-26448000           20000000      15.206467\n",
       "2  26448000-39672000           35000000      19.927371\n",
       "3  39672000-52896000           40000000      14.274953\n",
       "4  52896000-66120000           56500000      15.041623\n",
       "5  66120000-79344000           75000000      13.796370"
      ]
     },
     "execution_count": 21,
     "metadata": {},
     "output_type": "execute_result"
    }
   ],
   "source": [
    "final_tbudgets = top_budgets.groupby(['budgetbin']).median()\n",
    "final_tbudgets.reset_index(inplace=True)\n",
    "final_tbudgets"
   ]
  },
  {
   "cell_type": "markdown",
   "metadata": {},
   "source": [
    "### All Budgets"
   ]
  },
  {
   "cell_type": "code",
   "execution_count": 22,
   "metadata": {},
   "outputs": [
    {
     "data": {
      "text/html": [
       "<div>\n",
       "<style scoped>\n",
       "    .dataframe tbody tr th:only-of-type {\n",
       "        vertical-align: middle;\n",
       "    }\n",
       "\n",
       "    .dataframe tbody tr th {\n",
       "        vertical-align: top;\n",
       "    }\n",
       "\n",
       "    .dataframe thead th {\n",
       "        text-align: right;\n",
       "    }\n",
       "</style>\n",
       "<table border=\"1\" class=\"dataframe\">\n",
       "  <thead>\n",
       "    <tr style=\"text-align: right;\">\n",
       "      <th></th>\n",
       "      <th>production_budget</th>\n",
       "      <th>worldwide_pir</th>\n",
       "    </tr>\n",
       "  </thead>\n",
       "  <tbody>\n",
       "    <tr>\n",
       "      <th>0</th>\n",
       "      <td>100000</td>\n",
       "      <td>416.564740</td>\n",
       "    </tr>\n",
       "    <tr>\n",
       "      <th>1</th>\n",
       "      <td>1000000</td>\n",
       "      <td>101.759490</td>\n",
       "    </tr>\n",
       "    <tr>\n",
       "      <th>2</th>\n",
       "      <td>1500000</td>\n",
       "      <td>66.580591</td>\n",
       "    </tr>\n",
       "    <tr>\n",
       "      <th>3</th>\n",
       "      <td>1000000</td>\n",
       "      <td>64.364198</td>\n",
       "    </tr>\n",
       "    <tr>\n",
       "      <th>4</th>\n",
       "      <td>5000000</td>\n",
       "      <td>55.792961</td>\n",
       "    </tr>\n",
       "  </tbody>\n",
       "</table>\n",
       "</div>"
      ],
      "text/plain": [
       "   production_budget  worldwide_pir\n",
       "0             100000     416.564740\n",
       "1            1000000     101.759490\n",
       "2            1500000      66.580591\n",
       "3            1000000      64.364198\n",
       "4            5000000      55.792961"
      ]
     },
     "execution_count": 22,
     "metadata": {},
     "output_type": "execute_result"
    }
   ],
   "source": [
    "all_budgets = pd.read_sql('''\n",
    "    SELECT production_budget, worldwide_pir \n",
    "    FROM basics\n",
    "    WHERE release_date >= 2011\n",
    "    AND domestic_gross > 0\n",
    "    AND domestic_pir > 1\n",
    "    ORDER BY worldwide_pir DESC\n",
    "    ;''', conn)\n",
    "all_budgets.head()\n"
   ]
  },
  {
   "cell_type": "code",
   "execution_count": 23,
   "metadata": {},
   "outputs": [
    {
     "data": {
      "text/html": [
       "<div>\n",
       "<style scoped>\n",
       "    .dataframe tbody tr th:only-of-type {\n",
       "        vertical-align: middle;\n",
       "    }\n",
       "\n",
       "    .dataframe tbody tr th {\n",
       "        vertical-align: top;\n",
       "    }\n",
       "\n",
       "    .dataframe thead th {\n",
       "        text-align: right;\n",
       "    }\n",
       "</style>\n",
       "<table border=\"1\" class=\"dataframe\">\n",
       "  <thead>\n",
       "    <tr style=\"text-align: right;\">\n",
       "      <th></th>\n",
       "      <th>production_budget</th>\n",
       "      <th>worldwide_pir</th>\n",
       "      <th>bin</th>\n",
       "    </tr>\n",
       "  </thead>\n",
       "  <tbody>\n",
       "    <tr>\n",
       "      <th>0</th>\n",
       "      <td>100000</td>\n",
       "      <td>416.564740</td>\n",
       "      <td>0-13224000</td>\n",
       "    </tr>\n",
       "    <tr>\n",
       "      <th>1</th>\n",
       "      <td>1000000</td>\n",
       "      <td>101.759490</td>\n",
       "      <td>0-13224000</td>\n",
       "    </tr>\n",
       "    <tr>\n",
       "      <th>2</th>\n",
       "      <td>1500000</td>\n",
       "      <td>66.580591</td>\n",
       "      <td>0-13224000</td>\n",
       "    </tr>\n",
       "    <tr>\n",
       "      <th>3</th>\n",
       "      <td>1000000</td>\n",
       "      <td>64.364198</td>\n",
       "      <td>0-13224000</td>\n",
       "    </tr>\n",
       "    <tr>\n",
       "      <th>4</th>\n",
       "      <td>5000000</td>\n",
       "      <td>55.792961</td>\n",
       "      <td>0-13224000</td>\n",
       "    </tr>\n",
       "  </tbody>\n",
       "</table>\n",
       "</div>"
      ],
      "text/plain": [
       "   production_budget  worldwide_pir         bin\n",
       "0             100000     416.564740  0-13224000\n",
       "1            1000000     101.759490  0-13224000\n",
       "2            1500000      66.580591  0-13224000\n",
       "3            1000000      64.364198  0-13224000\n",
       "4            5000000      55.792961  0-13224000"
      ]
     },
     "execution_count": 23,
     "metadata": {},
     "output_type": "execute_result"
    }
   ],
   "source": [
    "# $330,600,000 is max budget, bins of $13,224,000 give 25 bins\n",
    "cut_labels_a = [str(i*13224000) + '-' + str((i+1)*13224000) \n",
    "              for i in range(0,25)]\n",
    "cut_bins_a = list(range(0, 343824000, 13224000))\n",
    "all_budgets['bin'] = pd.cut(all_budgets['production_budget'], \n",
    "                            bins=cut_bins_a, labels=cut_labels_a)\n",
    "all_budgets.head()"
   ]
  },
  {
   "cell_type": "code",
   "execution_count": 24,
   "metadata": {},
   "outputs": [
    {
     "data": {
      "text/html": [
       "<div>\n",
       "<style scoped>\n",
       "    .dataframe tbody tr th:only-of-type {\n",
       "        vertical-align: middle;\n",
       "    }\n",
       "\n",
       "    .dataframe tbody tr th {\n",
       "        vertical-align: top;\n",
       "    }\n",
       "\n",
       "    .dataframe thead th {\n",
       "        text-align: right;\n",
       "    }\n",
       "</style>\n",
       "<table border=\"1\" class=\"dataframe\">\n",
       "  <thead>\n",
       "    <tr style=\"text-align: right;\">\n",
       "      <th></th>\n",
       "      <th>production_budget</th>\n",
       "      <th>worldwide_pir</th>\n",
       "    </tr>\n",
       "    <tr>\n",
       "      <th>bin</th>\n",
       "      <th></th>\n",
       "      <th></th>\n",
       "    </tr>\n",
       "  </thead>\n",
       "  <tbody>\n",
       "    <tr>\n",
       "      <th>0-13224000</th>\n",
       "      <td>5000000.0</td>\n",
       "      <td>5.894445</td>\n",
       "    </tr>\n",
       "    <tr>\n",
       "      <th>13224000-26448000</th>\n",
       "      <td>20000000.0</td>\n",
       "      <td>3.364305</td>\n",
       "    </tr>\n",
       "    <tr>\n",
       "      <th>26448000-39672000</th>\n",
       "      <td>30000000.0</td>\n",
       "      <td>3.141382</td>\n",
       "    </tr>\n",
       "    <tr>\n",
       "      <th>39672000-52896000</th>\n",
       "      <td>45000000.0</td>\n",
       "      <td>3.745116</td>\n",
       "    </tr>\n",
       "    <tr>\n",
       "      <th>52896000-66120000</th>\n",
       "      <td>60000000.0</td>\n",
       "      <td>3.883758</td>\n",
       "    </tr>\n",
       "  </tbody>\n",
       "</table>\n",
       "</div>"
      ],
      "text/plain": [
       "                   production_budget  worldwide_pir\n",
       "bin                                                \n",
       "0-13224000                 5000000.0       5.894445\n",
       "13224000-26448000         20000000.0       3.364305\n",
       "26448000-39672000         30000000.0       3.141382\n",
       "39672000-52896000         45000000.0       3.745116\n",
       "52896000-66120000         60000000.0       3.883758"
      ]
     },
     "execution_count": 24,
     "metadata": {},
     "output_type": "execute_result"
    }
   ],
   "source": [
    "final_abudgets = all_budgets.groupby(['bin']).median()\n",
    "final_abudgets.head()"
   ]
  },
  {
   "cell_type": "markdown",
   "metadata": {},
   "source": [
    "### Top 10% Analysis"
   ]
  },
  {
   "cell_type": "code",
   "execution_count": 25,
   "metadata": {
    "scrolled": true
   },
   "outputs": [
    {
     "data": {
      "image/png": "[encoded data removed]",
      "text/plain": [
       "<Figure size 720x720 with 1 Axes>"
      ]
     },
     "metadata": {},
     "output_type": "display_data"
    }
   ],
   "source": [
    "f, ax = plt.subplots(figsize=(10, 10), facecolor='black')\n",
    "\n",
    "y = final_tbudgets['budgetbin']\n",
    "x = final_tbudgets['worldwide_pir']\n",
    "b = sns.barplot(x=x, y=y, palette='YlGnBu')\n",
    "\n",
    "\n",
    "b.set_xlabel('Median PIR For All Budgets in Assigned Range', fontsize=15, color='white')\n",
    "b.set_ylabel('Production Budget', fontsize=15, color ='white')\n",
    "b.set_title('Profit Investment Return of Top 10%', fontsize=30, color='white')\n",
    "plt.tick_params(axis='both', which='major', labelsize=10, color='white')\n",
    "\n",
    "ax.grid(b=True, which='both', color='white', linewidth=0.3)\n",
    "ax.tick_params(colors='white')\n",
    "ax.set_facecolor('black')\n",
    "sns.despine(left=True, bottom=True)"
   ]
  },
  {
   "cell_type": "markdown",
   "metadata": {},
   "source": [
    "## Finding Recommended Release Month\n",
    "\n",
    "I am determining which month to release a movie in by comparing top 10% to the overall table. I will look for an over-representation in the top 10%."
   ]
  },
  {
   "cell_type": "markdown",
   "metadata": {},
   "source": [
    "### Top 10% Release Month"
   ]
  },
  {
   "cell_type": "code",
   "execution_count": 26,
   "metadata": {},
   "outputs": [],
   "source": [
    "top_movies = pd.read_sql('''\n",
    "    SELECT movie, worldwide_pir, release_date \n",
    "    FROM basics\n",
    "    WHERE release_date >= 2011\n",
    "    AND domestic_gross > 0\n",
    "    AND domestic_pir > 1\n",
    "    ORDER BY worldwide_pir DESC\n",
    "    LIMIT 74\n",
    "    ;''', conn)"
   ]
  },
  {
   "cell_type": "code",
   "execution_count": 27,
   "metadata": {},
   "outputs": [
    {
     "data": {
      "text/plain": [
       "1      8\n",
       "2      5\n",
       "3      5\n",
       "4      5\n",
       "5      4\n",
       "6      6\n",
       "7     12\n",
       "8      5\n",
       "9      5\n",
       "10     9\n",
       "11     7\n",
       "12     3\n",
       "Name: release_month, dtype: int64"
      ]
     },
     "execution_count": 27,
     "metadata": {},
     "output_type": "execute_result"
    }
   ],
   "source": [
    "#sort by release month\n",
    "top_movies['release_date'] = pd.to_datetime(top_movies['release_date'])\n",
    "top_movies['release_month'] = top_movies['release_date'].dt.month\n",
    "top_movies['release_month'].value_counts().sort_index()"
   ]
  },
  {
   "cell_type": "markdown",
   "metadata": {},
   "source": [
    "### All Release Month"
   ]
  },
  {
   "cell_type": "code",
   "execution_count": 28,
   "metadata": {},
   "outputs": [],
   "source": [
    "all_movies = pd.read_sql('''\n",
    "    SELECT movie, worldwide_pir, release_date \n",
    "    FROM basics\n",
    "    WHERE release_date >= 2011\n",
    "    AND domestic_gross > 0\n",
    "    AND domestic_pir > 1\n",
    "    ORDER BY worldwide_pir DESC\n",
    "    ;''', conn)"
   ]
  },
  {
   "cell_type": "code",
   "execution_count": 29,
   "metadata": {
    "scrolled": true
   },
   "outputs": [
    {
     "data": {
      "text/plain": [
       "0    7\n",
       "1    1\n",
       "2    4\n",
       "3    4\n",
       "4    1\n",
       "Name: release_month, dtype: int64"
      ]
     },
     "execution_count": 29,
     "metadata": {},
     "output_type": "execute_result"
    }
   ],
   "source": [
    "#sort by release month\n",
    "all_movies['release_date'] = pd.to_datetime(all_movies['release_date'])\n",
    "all_movies['release_month'] = all_movies['release_date'].dt.month\n",
    "all_movies['release_month'].head()"
   ]
  },
  {
   "cell_type": "markdown",
   "metadata": {},
   "source": [
    "### Comparison of Release Months"
   ]
  },
  {
   "cell_type": "code",
   "execution_count": 30,
   "metadata": {},
   "outputs": [
    {
     "data": {
      "image/png": "[encoded data removed]",
      "text/plain": [
       "<Figure size 576x576 with 1 Axes>"
      ]
     },
     "metadata": {
      "needs_background": "light"
     },
     "output_type": "display_data"
    }
   ],
   "source": [
    "f, ax = plt.subplots(figsize=(8, 8))\n",
    "\n",
    "m1 = top_movies['release_month']\n",
    "m2 = all_movies['release_month']\n",
    "x2 = sns.histplot(y=m1, color='yellow', stat='probability', alpha=0.5,\n",
    "            bins=12)\n",
    "y2 = sns.histplot(y=m2, color='blue', stat='probability', alpha=0.3,\n",
    "            bins=12)\n",
    "\n",
    "ax.set(xlabel='Probability of Being Released in Month')\n",
    "ax.set(ylabel='Release Month')\n",
    "ax.set(title='Release Month Representation')\n",
    "sns.despine(left=True, bottom=True)"
   ]
  },
  {
   "cell_type": "code",
   "execution_count": 60,
   "metadata": {},
   "outputs": [],
   "source": [
    "top_10 = top_movies['release_month'].value_counts().sort_index()\n",
    "top_10.index = np.arange(0, len(top_10))\n",
    "\n",
    "pop = all_movies['release_month'].value_counts().sort_index()\n",
    "pop.index = np.arange(0, len(pop))"
   ]
  },
  {
   "cell_type": "code",
   "execution_count": 63,
   "metadata": {},
   "outputs": [
    {
     "data": {
      "text/html": [
       "<div>\n",
       "<style scoped>\n",
       "    .dataframe tbody tr th:only-of-type {\n",
       "        vertical-align: middle;\n",
       "    }\n",
       "\n",
       "    .dataframe tbody tr th {\n",
       "        vertical-align: top;\n",
       "    }\n",
       "\n",
       "    .dataframe thead th {\n",
       "        text-align: right;\n",
       "    }\n",
       "</style>\n",
       "<table border=\"1\" class=\"dataframe\">\n",
       "  <thead>\n",
       "    <tr style=\"text-align: right;\">\n",
       "      <th></th>\n",
       "      <th>months</th>\n",
       "      <th>top_10</th>\n",
       "      <th>pop</th>\n",
       "      <th>performance</th>\n",
       "    </tr>\n",
       "  </thead>\n",
       "  <tbody>\n",
       "    <tr>\n",
       "      <th>0</th>\n",
       "      <td>January</td>\n",
       "      <td>10.810811</td>\n",
       "      <td>6.089310</td>\n",
       "      <td>4.721501</td>\n",
       "    </tr>\n",
       "    <tr>\n",
       "      <th>1</th>\n",
       "      <td>February</td>\n",
       "      <td>6.756757</td>\n",
       "      <td>8.525034</td>\n",
       "      <td>-1.768277</td>\n",
       "    </tr>\n",
       "    <tr>\n",
       "      <th>2</th>\n",
       "      <td>March</td>\n",
       "      <td>6.756757</td>\n",
       "      <td>7.983762</td>\n",
       "      <td>-1.227005</td>\n",
       "    </tr>\n",
       "    <tr>\n",
       "      <th>3</th>\n",
       "      <td>April</td>\n",
       "      <td>6.756757</td>\n",
       "      <td>8.254398</td>\n",
       "      <td>-1.497641</td>\n",
       "    </tr>\n",
       "    <tr>\n",
       "      <th>4</th>\n",
       "      <td>May</td>\n",
       "      <td>5.405405</td>\n",
       "      <td>7.577808</td>\n",
       "      <td>-2.172402</td>\n",
       "    </tr>\n",
       "    <tr>\n",
       "      <th>5</th>\n",
       "      <td>June</td>\n",
       "      <td>8.108108</td>\n",
       "      <td>8.389716</td>\n",
       "      <td>-0.281608</td>\n",
       "    </tr>\n",
       "    <tr>\n",
       "      <th>6</th>\n",
       "      <td>July</td>\n",
       "      <td>16.216216</td>\n",
       "      <td>9.742896</td>\n",
       "      <td>6.473320</td>\n",
       "    </tr>\n",
       "    <tr>\n",
       "      <th>7</th>\n",
       "      <td>August</td>\n",
       "      <td>6.756757</td>\n",
       "      <td>8.119080</td>\n",
       "      <td>-1.362323</td>\n",
       "    </tr>\n",
       "    <tr>\n",
       "      <th>8</th>\n",
       "      <td>September</td>\n",
       "      <td>6.756757</td>\n",
       "      <td>7.577808</td>\n",
       "      <td>-0.821051</td>\n",
       "    </tr>\n",
       "    <tr>\n",
       "      <th>9</th>\n",
       "      <td>October</td>\n",
       "      <td>12.162162</td>\n",
       "      <td>8.525034</td>\n",
       "      <td>3.637128</td>\n",
       "    </tr>\n",
       "    <tr>\n",
       "      <th>10</th>\n",
       "      <td>November</td>\n",
       "      <td>9.459459</td>\n",
       "      <td>10.013532</td>\n",
       "      <td>-0.554072</td>\n",
       "    </tr>\n",
       "    <tr>\n",
       "      <th>11</th>\n",
       "      <td>December</td>\n",
       "      <td>4.054054</td>\n",
       "      <td>9.201624</td>\n",
       "      <td>-5.147570</td>\n",
       "    </tr>\n",
       "  </tbody>\n",
       "</table>\n",
       "</div>"
      ],
      "text/plain": [
       "       months     top_10        pop  performance\n",
       "0     January  10.810811   6.089310     4.721501\n",
       "1    February   6.756757   8.525034    -1.768277\n",
       "2       March   6.756757   7.983762    -1.227005\n",
       "3       April   6.756757   8.254398    -1.497641\n",
       "4         May   5.405405   7.577808    -2.172402\n",
       "5        June   8.108108   8.389716    -0.281608\n",
       "6        July  16.216216   9.742896     6.473320\n",
       "7      August   6.756757   8.119080    -1.362323\n",
       "8   September   6.756757   7.577808    -0.821051\n",
       "9     October  12.162162   8.525034     3.637128\n",
       "10   November   9.459459  10.013532    -0.554072\n",
       "11   December   4.054054   9.201624    -5.147570"
      ]
     },
     "execution_count": 63,
     "metadata": {},
     "output_type": "execute_result"
    }
   ],
   "source": [
    "month_prob = pd.DataFrame(columns=['months', 'top_10', 'pop'])\n",
    "months = 'January', 'February', 'March', 'April', 'May', 'June', 'July', 'August', 'September', 'October', 'November', 'December'\n",
    "month_prob['months'] = months\n",
    "month_prob['top_10'] = top_10/len(top_movies)*100\n",
    "month_prob['pop'] = pop/len(all_movies)*100\n",
    "month_prob['performance'] = month_prob['top_10'] - month_prob['pop']\n",
    "month_prob"
   ]
  },
  {
   "cell_type": "code",
   "execution_count": 66,
   "metadata": {},
   "outputs": [
    {
     "data": {
      "image/png": "[encoded data removed]",
      "text/plain": [
       "<Figure size 720x720 with 1 Axes>"
      ]
     },
     "metadata": {},
     "output_type": "display_data"
    }
   ],
   "source": [
    "f, ax = plt.subplots(figsize=(10, 10), facecolor='black')\n",
    "\n",
    "y = month_prob['months']\n",
    "x = month_prob['performance']\n",
    "m = sns.barplot(x=x, y=y, palette=sns.color_palette('YlGnBu', 12))\n",
    "\n",
    "m.set_xlabel('Over/Under Performance, in Percent', fontsize=15, color='white')\n",
    "m.set_title('Over/Under Performance of the Top 10% vs. Population',fontsize=30, color='white')\n",
    "plt.tick_params(axis='both', which='major', labelsize=12, color='white')\n",
    "\n",
    "ax.grid(b=True, which='both', color='white', linewidth=0.3)\n",
    "ax.tick_params(colors='white')\n",
    "ax.set_facecolor('black')\n",
    "sns.despine(left=True, bottom=True)"
   ]
  },
  {
   "cell_type": "markdown",
   "metadata": {},
   "source": [
    "## Finding Recommended Genre\n",
    "\n",
    "I am pulling out the top genres to see if there is a clear genre that is over represented in the top 10%. I will only compare the movies that have at least 1 genre listed. The total is 1956, so this makes the top 10% the top 196. To make each movie have equal weight, if only 1 genre is listed then it will be copied over to genre_2 and genre_3. If there are 2 genres, then genre 1 will be copied to genre 3."
   ]
  },
  {
   "cell_type": "markdown",
   "metadata": {},
   "source": [
    "### Top 10% Genre Rep"
   ]
  },
  {
   "cell_type": "code",
   "execution_count": 34,
   "metadata": {},
   "outputs": [
    {
     "data": {
      "text/html": [
       "<div>\n",
       "<style scoped>\n",
       "    .dataframe tbody tr th:only-of-type {\n",
       "        vertical-align: middle;\n",
       "    }\n",
       "\n",
       "    .dataframe tbody tr th {\n",
       "        vertical-align: top;\n",
       "    }\n",
       "\n",
       "    .dataframe thead th {\n",
       "        text-align: right;\n",
       "    }\n",
       "</style>\n",
       "<table border=\"1\" class=\"dataframe\">\n",
       "  <thead>\n",
       "    <tr style=\"text-align: right;\">\n",
       "      <th></th>\n",
       "      <th>movie</th>\n",
       "      <th>genre_1</th>\n",
       "      <th>genre_2</th>\n",
       "      <th>genre_3</th>\n",
       "    </tr>\n",
       "  </thead>\n",
       "  <tbody>\n",
       "    <tr>\n",
       "      <th>0</th>\n",
       "      <td>the gallows</td>\n",
       "      <td>Horror</td>\n",
       "      <td>Mystery</td>\n",
       "      <td>Thriller</td>\n",
       "    </tr>\n",
       "    <tr>\n",
       "      <th>1</th>\n",
       "      <td>the devil inside</td>\n",
       "      <td>Horror</td>\n",
       "      <td>None</td>\n",
       "      <td>None</td>\n",
       "    </tr>\n",
       "    <tr>\n",
       "      <th>2</th>\n",
       "      <td>insidious</td>\n",
       "      <td>Horror</td>\n",
       "      <td>Mystery</td>\n",
       "      <td>Thriller</td>\n",
       "    </tr>\n",
       "    <tr>\n",
       "      <th>3</th>\n",
       "      <td>unfriended</td>\n",
       "      <td>Horror</td>\n",
       "      <td>Mystery</td>\n",
       "      <td>Thriller</td>\n",
       "    </tr>\n",
       "    <tr>\n",
       "      <th>4</th>\n",
       "      <td>split</td>\n",
       "      <td>Action</td>\n",
       "      <td>Drama</td>\n",
       "      <td>Sport</td>\n",
       "    </tr>\n",
       "  </tbody>\n",
       "</table>\n",
       "</div>"
      ],
      "text/plain": [
       "              movie genre_1  genre_2   genre_3\n",
       "0       the gallows  Horror  Mystery  Thriller\n",
       "1  the devil inside  Horror     None      None\n",
       "2         insidious  Horror  Mystery  Thriller\n",
       "3        unfriended  Horror  Mystery  Thriller\n",
       "4             split  Action    Drama     Sport"
      ]
     },
     "execution_count": 34,
     "metadata": {},
     "output_type": "execute_result"
    }
   ],
   "source": [
    "# Can't clean completely, am not including ones\n",
    "# where there is no genre listed\n",
    "top_genre = pd.read_sql('''SELECT movie, genre_1, genre_2, genre_3\n",
    "    FROM basics\n",
    "    LEFT JOIN genres\n",
    "        ON genres.primary_title = basics.movie\n",
    "    WHERE release_date >= 2011\n",
    "    AND domestic_gross > 0\n",
    "    AND genre_1 IS NOT NULL\n",
    "    ORDER BY worldwide_pir DESC\n",
    "    LIMIT 196\n",
    "    ;''', conn)\n",
    "top_genre.head()"
   ]
  },
  {
   "cell_type": "code",
   "execution_count": 35,
   "metadata": {},
   "outputs": [
    {
     "data": {
      "text/html": [
       "<div>\n",
       "<style scoped>\n",
       "    .dataframe tbody tr th:only-of-type {\n",
       "        vertical-align: middle;\n",
       "    }\n",
       "\n",
       "    .dataframe tbody tr th {\n",
       "        vertical-align: top;\n",
       "    }\n",
       "\n",
       "    .dataframe thead th {\n",
       "        text-align: right;\n",
       "    }\n",
       "</style>\n",
       "<table border=\"1\" class=\"dataframe\">\n",
       "  <thead>\n",
       "    <tr style=\"text-align: right;\">\n",
       "      <th></th>\n",
       "      <th>movie</th>\n",
       "      <th>genre_1</th>\n",
       "      <th>genre_2</th>\n",
       "      <th>genre_3</th>\n",
       "    </tr>\n",
       "  </thead>\n",
       "  <tbody>\n",
       "    <tr>\n",
       "      <th>0</th>\n",
       "      <td>the gallows</td>\n",
       "      <td>Horror</td>\n",
       "      <td>Mystery</td>\n",
       "      <td>Thriller</td>\n",
       "    </tr>\n",
       "    <tr>\n",
       "      <th>1</th>\n",
       "      <td>the devil inside</td>\n",
       "      <td>Horror</td>\n",
       "      <td>Horror</td>\n",
       "      <td>Horror</td>\n",
       "    </tr>\n",
       "    <tr>\n",
       "      <th>2</th>\n",
       "      <td>insidious</td>\n",
       "      <td>Horror</td>\n",
       "      <td>Mystery</td>\n",
       "      <td>Thriller</td>\n",
       "    </tr>\n",
       "    <tr>\n",
       "      <th>3</th>\n",
       "      <td>unfriended</td>\n",
       "      <td>Horror</td>\n",
       "      <td>Mystery</td>\n",
       "      <td>Thriller</td>\n",
       "    </tr>\n",
       "    <tr>\n",
       "      <th>4</th>\n",
       "      <td>split</td>\n",
       "      <td>Action</td>\n",
       "      <td>Drama</td>\n",
       "      <td>Sport</td>\n",
       "    </tr>\n",
       "  </tbody>\n",
       "</table>\n",
       "</div>"
      ],
      "text/plain": [
       "              movie genre_1  genre_2   genre_3\n",
       "0       the gallows  Horror  Mystery  Thriller\n",
       "1  the devil inside  Horror   Horror    Horror\n",
       "2         insidious  Horror  Mystery  Thriller\n",
       "3        unfriended  Horror  Mystery  Thriller\n",
       "4             split  Action    Drama     Sport"
      ]
     },
     "execution_count": 35,
     "metadata": {},
     "output_type": "execute_result"
    }
   ],
   "source": [
    "top_genre['genre_2'].fillna(top_genre['genre_1'], inplace=True)\n",
    "top_genre['genre_3'].fillna(top_genre['genre_1'], inplace=True)\n",
    "top_genre.head()"
   ]
  },
  {
   "cell_type": "code",
   "execution_count": 36,
   "metadata": {},
   "outputs": [
    {
     "data": {
      "text/plain": [
       "588"
      ]
     },
     "execution_count": 36,
     "metadata": {},
     "output_type": "execute_result"
    }
   ],
   "source": [
    "all_top_genres = top_genre['genre_1'].tolist()\n",
    "all_top_genres_2 = top_genre['genre_2'].tolist()\n",
    "all_top_genres.extend(all_top_genres_2)\n",
    "all_top_genres_3 = top_genre['genre_3'].tolist()\n",
    "all_top_genres.extend(all_top_genres_3)\n",
    "len(all_top_genres)"
   ]
  },
  {
   "cell_type": "code",
   "execution_count": 37,
   "metadata": {},
   "outputs": [],
   "source": [
    "top_10_genres = list(pd.unique(all_top_genres))\n",
    "genre_count = dict.fromkeys(top_10_genres, 0)\n",
    "for i in all_top_genres:\n",
    "    genre_count[i] += 1"
   ]
  },
  {
   "cell_type": "code",
   "execution_count": 38,
   "metadata": {},
   "outputs": [],
   "source": [
    "# find probability of each genre represented in top 10%\n",
    "for genre in genre_count:\n",
    "    genre_count[genre] = genre_count[genre]/588"
   ]
  },
  {
   "cell_type": "code",
   "execution_count": 39,
   "metadata": {},
   "outputs": [],
   "source": [
    "# Zero count genres were added after the complete list was compliled.\n",
    "# This was done to have matching dictionaries to add them into the same df\n",
    "genre_count['War'] = 0\n",
    "genre_count['News'] = 0\n",
    "genre_count['Western'] = 0\n",
    "genre_count = dict(sorted(genre_count.items()))"
   ]
  },
  {
   "cell_type": "markdown",
   "metadata": {},
   "source": [
    "### All Genre Rep"
   ]
  },
  {
   "cell_type": "code",
   "execution_count": 40,
   "metadata": {},
   "outputs": [
    {
     "data": {
      "text/html": [
       "<div>\n",
       "<style scoped>\n",
       "    .dataframe tbody tr th:only-of-type {\n",
       "        vertical-align: middle;\n",
       "    }\n",
       "\n",
       "    .dataframe tbody tr th {\n",
       "        vertical-align: top;\n",
       "    }\n",
       "\n",
       "    .dataframe thead th {\n",
       "        text-align: right;\n",
       "    }\n",
       "</style>\n",
       "<table border=\"1\" class=\"dataframe\">\n",
       "  <thead>\n",
       "    <tr style=\"text-align: right;\">\n",
       "      <th></th>\n",
       "      <th>movie</th>\n",
       "      <th>genre_1</th>\n",
       "      <th>genre_2</th>\n",
       "      <th>genre_3</th>\n",
       "    </tr>\n",
       "  </thead>\n",
       "  <tbody>\n",
       "    <tr>\n",
       "      <th>0</th>\n",
       "      <td>the gallows</td>\n",
       "      <td>Horror</td>\n",
       "      <td>Mystery</td>\n",
       "      <td>Thriller</td>\n",
       "    </tr>\n",
       "    <tr>\n",
       "      <th>1</th>\n",
       "      <td>the devil inside</td>\n",
       "      <td>Horror</td>\n",
       "      <td>None</td>\n",
       "      <td>None</td>\n",
       "    </tr>\n",
       "    <tr>\n",
       "      <th>2</th>\n",
       "      <td>insidious</td>\n",
       "      <td>Horror</td>\n",
       "      <td>Mystery</td>\n",
       "      <td>Thriller</td>\n",
       "    </tr>\n",
       "    <tr>\n",
       "      <th>3</th>\n",
       "      <td>unfriended</td>\n",
       "      <td>Horror</td>\n",
       "      <td>Mystery</td>\n",
       "      <td>Thriller</td>\n",
       "    </tr>\n",
       "    <tr>\n",
       "      <th>4</th>\n",
       "      <td>split</td>\n",
       "      <td>Action</td>\n",
       "      <td>Drama</td>\n",
       "      <td>Sport</td>\n",
       "    </tr>\n",
       "  </tbody>\n",
       "</table>\n",
       "</div>"
      ],
      "text/plain": [
       "              movie genre_1  genre_2   genre_3\n",
       "0       the gallows  Horror  Mystery  Thriller\n",
       "1  the devil inside  Horror     None      None\n",
       "2         insidious  Horror  Mystery  Thriller\n",
       "3        unfriended  Horror  Mystery  Thriller\n",
       "4             split  Action    Drama     Sport"
      ]
     },
     "execution_count": 40,
     "metadata": {},
     "output_type": "execute_result"
    }
   ],
   "source": [
    "# Can't clean completely, am not including ones\n",
    "# where there is no genre listed\n",
    "all_genre = pd.read_sql('''SELECT movie, genre_1, genre_2, genre_3\n",
    "    FROM basics\n",
    "    LEFT JOIN genres\n",
    "        ON genres.primary_title = basics.movie\n",
    "    WHERE release_date >= 2011\n",
    "    AND domestic_gross > 0\n",
    "    AND genre_1 IS NOT NULL\n",
    "    ORDER BY worldwide_pir DESC\n",
    "    ;''', conn)\n",
    "all_genre.head()"
   ]
  },
  {
   "cell_type": "code",
   "execution_count": 41,
   "metadata": {},
   "outputs": [
    {
     "data": {
      "text/html": [
       "<div>\n",
       "<style scoped>\n",
       "    .dataframe tbody tr th:only-of-type {\n",
       "        vertical-align: middle;\n",
       "    }\n",
       "\n",
       "    .dataframe tbody tr th {\n",
       "        vertical-align: top;\n",
       "    }\n",
       "\n",
       "    .dataframe thead th {\n",
       "        text-align: right;\n",
       "    }\n",
       "</style>\n",
       "<table border=\"1\" class=\"dataframe\">\n",
       "  <thead>\n",
       "    <tr style=\"text-align: right;\">\n",
       "      <th></th>\n",
       "      <th>movie</th>\n",
       "      <th>genre_1</th>\n",
       "      <th>genre_2</th>\n",
       "      <th>genre_3</th>\n",
       "    </tr>\n",
       "  </thead>\n",
       "  <tbody>\n",
       "    <tr>\n",
       "      <th>0</th>\n",
       "      <td>the gallows</td>\n",
       "      <td>Horror</td>\n",
       "      <td>Mystery</td>\n",
       "      <td>Thriller</td>\n",
       "    </tr>\n",
       "    <tr>\n",
       "      <th>1</th>\n",
       "      <td>the devil inside</td>\n",
       "      <td>Horror</td>\n",
       "      <td>Horror</td>\n",
       "      <td>Horror</td>\n",
       "    </tr>\n",
       "    <tr>\n",
       "      <th>2</th>\n",
       "      <td>insidious</td>\n",
       "      <td>Horror</td>\n",
       "      <td>Mystery</td>\n",
       "      <td>Thriller</td>\n",
       "    </tr>\n",
       "    <tr>\n",
       "      <th>3</th>\n",
       "      <td>unfriended</td>\n",
       "      <td>Horror</td>\n",
       "      <td>Mystery</td>\n",
       "      <td>Thriller</td>\n",
       "    </tr>\n",
       "    <tr>\n",
       "      <th>4</th>\n",
       "      <td>split</td>\n",
       "      <td>Action</td>\n",
       "      <td>Drama</td>\n",
       "      <td>Sport</td>\n",
       "    </tr>\n",
       "  </tbody>\n",
       "</table>\n",
       "</div>"
      ],
      "text/plain": [
       "              movie genre_1  genre_2   genre_3\n",
       "0       the gallows  Horror  Mystery  Thriller\n",
       "1  the devil inside  Horror   Horror    Horror\n",
       "2         insidious  Horror  Mystery  Thriller\n",
       "3        unfriended  Horror  Mystery  Thriller\n",
       "4             split  Action    Drama     Sport"
      ]
     },
     "execution_count": 41,
     "metadata": {},
     "output_type": "execute_result"
    }
   ],
   "source": [
    "all_genre['genre_2'].fillna(all_genre['genre_1'], inplace=True)\n",
    "all_genre['genre_3'].fillna(all_genre['genre_1'], inplace=True)\n",
    "all_genre.head()"
   ]
  },
  {
   "cell_type": "code",
   "execution_count": 42,
   "metadata": {},
   "outputs": [
    {
     "data": {
      "text/plain": [
       "5868"
      ]
     },
     "execution_count": 42,
     "metadata": {},
     "output_type": "execute_result"
    }
   ],
   "source": [
    "list_all_genre = all_genre['genre_1'].tolist()\n",
    "list_all_genre_2 = all_genre['genre_2'].tolist()\n",
    "list_all_genre.extend(list_all_genre_2)\n",
    "list_all_genre_3 = all_genre['genre_3'].tolist()\n",
    "list_all_genre.extend(list_all_genre_3)\n",
    "len(list_all_genre)"
   ]
  },
  {
   "cell_type": "code",
   "execution_count": 43,
   "metadata": {},
   "outputs": [],
   "source": [
    "all_uni_genres = list(pd.unique(list_all_genre))\n",
    "genre_count_all = dict.fromkeys(all_uni_genres, 0)\n",
    "for i in list_all_genre:\n",
    "    genre_count_all[i] += 1"
   ]
  },
  {
   "cell_type": "code",
   "execution_count": 44,
   "metadata": {},
   "outputs": [],
   "source": [
    "# find probability of each genre represented\n",
    "for genre in genre_count_all:\n",
    "    genre_count_all[genre] = genre_count_all[genre]/5868"
   ]
  },
  {
   "cell_type": "code",
   "execution_count": 45,
   "metadata": {},
   "outputs": [
    {
     "data": {
      "text/plain": [
       "0.0028970688479890935"
      ]
     },
     "execution_count": 45,
     "metadata": {},
     "output_type": "execute_result"
    }
   ],
   "source": [
    "genre_count_all['Music'] = 0.010736196319018405 + 0.0028970688479890935\n",
    "genre_count_all = dict(sorted(genre_count_all.items()))\n",
    "genre_count_all.pop('Musical')"
   ]
  },
  {
   "cell_type": "markdown",
   "metadata": {},
   "source": [
    "### Comparison of all genres"
   ]
  },
  {
   "cell_type": "code",
   "execution_count": 46,
   "metadata": {
    "scrolled": true
   },
   "outputs": [],
   "source": [
    "genre_df = pd.DataFrame(list(genre_count_all.items()))"
   ]
  },
  {
   "cell_type": "code",
   "execution_count": 47,
   "metadata": {
    "scrolled": true
   },
   "outputs": [
    {
     "data": {
      "text/html": [
       "<div>\n",
       "<style scoped>\n",
       "    .dataframe tbody tr th:only-of-type {\n",
       "        vertical-align: middle;\n",
       "    }\n",
       "\n",
       "    .dataframe tbody tr th {\n",
       "        vertical-align: top;\n",
       "    }\n",
       "\n",
       "    .dataframe thead th {\n",
       "        text-align: right;\n",
       "    }\n",
       "</style>\n",
       "<table border=\"1\" class=\"dataframe\">\n",
       "  <thead>\n",
       "    <tr style=\"text-align: right;\">\n",
       "      <th></th>\n",
       "      <th>Genre</th>\n",
       "      <th>Count_All</th>\n",
       "      <th>Top_10p</th>\n",
       "    </tr>\n",
       "  </thead>\n",
       "  <tbody>\n",
       "    <tr>\n",
       "      <th>0</th>\n",
       "      <td>Action</td>\n",
       "      <td>0.088105</td>\n",
       "      <td>0.047619</td>\n",
       "    </tr>\n",
       "    <tr>\n",
       "      <th>1</th>\n",
       "      <td>Adventure</td>\n",
       "      <td>0.062202</td>\n",
       "      <td>0.028912</td>\n",
       "    </tr>\n",
       "    <tr>\n",
       "      <th>2</th>\n",
       "      <td>Animation</td>\n",
       "      <td>0.020279</td>\n",
       "      <td>0.020408</td>\n",
       "    </tr>\n",
       "    <tr>\n",
       "      <th>3</th>\n",
       "      <td>Biography</td>\n",
       "      <td>0.034083</td>\n",
       "      <td>0.028912</td>\n",
       "    </tr>\n",
       "    <tr>\n",
       "      <th>4</th>\n",
       "      <td>Comedy</td>\n",
       "      <td>0.137866</td>\n",
       "      <td>0.125850</td>\n",
       "    </tr>\n",
       "  </tbody>\n",
       "</table>\n",
       "</div>"
      ],
      "text/plain": [
       "       Genre  Count_All   Top_10p\n",
       "0     Action   0.088105  0.047619\n",
       "1  Adventure   0.062202  0.028912\n",
       "2  Animation   0.020279  0.020408\n",
       "3  Biography   0.034083  0.028912\n",
       "4     Comedy   0.137866  0.125850"
      ]
     },
     "execution_count": 47,
     "metadata": {},
     "output_type": "execute_result"
    }
   ],
   "source": [
    "genre_df[2] = genre_df[0].map(genre_count)\n",
    "genre_df.columns = ['Genre', 'Count_All', 'Top_10p']\n",
    "genre_df.head()"
   ]
  },
  {
   "cell_type": "code",
   "execution_count": 48,
   "metadata": {},
   "outputs": [
    {
     "data": {
      "text/html": [
       "<div>\n",
       "<style scoped>\n",
       "    .dataframe tbody tr th:only-of-type {\n",
       "        vertical-align: middle;\n",
       "    }\n",
       "\n",
       "    .dataframe tbody tr th {\n",
       "        vertical-align: top;\n",
       "    }\n",
       "\n",
       "    .dataframe thead th {\n",
       "        text-align: right;\n",
       "    }\n",
       "</style>\n",
       "<table border=\"1\" class=\"dataframe\">\n",
       "  <thead>\n",
       "    <tr style=\"text-align: right;\">\n",
       "      <th></th>\n",
       "      <th>Genre</th>\n",
       "      <th>Count_All</th>\n",
       "      <th>Top_10p</th>\n",
       "      <th>Over_Performance</th>\n",
       "    </tr>\n",
       "  </thead>\n",
       "  <tbody>\n",
       "    <tr>\n",
       "      <th>0</th>\n",
       "      <td>Action</td>\n",
       "      <td>0.088105</td>\n",
       "      <td>0.047619</td>\n",
       "      <td>-4.048593</td>\n",
       "    </tr>\n",
       "    <tr>\n",
       "      <th>1</th>\n",
       "      <td>Adventure</td>\n",
       "      <td>0.062202</td>\n",
       "      <td>0.028912</td>\n",
       "      <td>-3.329021</td>\n",
       "    </tr>\n",
       "    <tr>\n",
       "      <th>5</th>\n",
       "      <td>Crime</td>\n",
       "      <td>0.046864</td>\n",
       "      <td>0.017007</td>\n",
       "      <td>-2.985755</td>\n",
       "    </tr>\n",
       "    <tr>\n",
       "      <th>4</th>\n",
       "      <td>Comedy</td>\n",
       "      <td>0.137866</td>\n",
       "      <td>0.125850</td>\n",
       "      <td>-1.201605</td>\n",
       "    </tr>\n",
       "    <tr>\n",
       "      <th>8</th>\n",
       "      <td>Family</td>\n",
       "      <td>0.017894</td>\n",
       "      <td>0.008503</td>\n",
       "      <td>-0.939026</td>\n",
       "    </tr>\n",
       "    <tr>\n",
       "      <th>9</th>\n",
       "      <td>Fantasy</td>\n",
       "      <td>0.025392</td>\n",
       "      <td>0.017007</td>\n",
       "      <td>-0.838515</td>\n",
       "    </tr>\n",
       "    <tr>\n",
       "      <th>10</th>\n",
       "      <td>History</td>\n",
       "      <td>0.010736</td>\n",
       "      <td>0.003401</td>\n",
       "      <td>-0.733484</td>\n",
       "    </tr>\n",
       "    <tr>\n",
       "      <th>6</th>\n",
       "      <td>Documentary</td>\n",
       "      <td>0.071915</td>\n",
       "      <td>0.066327</td>\n",
       "      <td>-0.558894</td>\n",
       "    </tr>\n",
       "    <tr>\n",
       "      <th>3</th>\n",
       "      <td>Biography</td>\n",
       "      <td>0.034083</td>\n",
       "      <td>0.028912</td>\n",
       "      <td>-0.517160</td>\n",
       "    </tr>\n",
       "    <tr>\n",
       "      <th>19</th>\n",
       "      <td>War</td>\n",
       "      <td>0.004431</td>\n",
       "      <td>0.000000</td>\n",
       "      <td>-0.443081</td>\n",
       "    </tr>\n",
       "    <tr>\n",
       "      <th>20</th>\n",
       "      <td>Western</td>\n",
       "      <td>0.003238</td>\n",
       "      <td>0.000000</td>\n",
       "      <td>-0.323790</td>\n",
       "    </tr>\n",
       "    <tr>\n",
       "      <th>16</th>\n",
       "      <td>Sci-Fi</td>\n",
       "      <td>0.025222</td>\n",
       "      <td>0.022109</td>\n",
       "      <td>-0.311270</td>\n",
       "    </tr>\n",
       "    <tr>\n",
       "      <th>17</th>\n",
       "      <td>Sport</td>\n",
       "      <td>0.008180</td>\n",
       "      <td>0.006803</td>\n",
       "      <td>-0.137724</td>\n",
       "    </tr>\n",
       "    <tr>\n",
       "      <th>14</th>\n",
       "      <td>News</td>\n",
       "      <td>0.000682</td>\n",
       "      <td>0.000000</td>\n",
       "      <td>-0.068166</td>\n",
       "    </tr>\n",
       "    <tr>\n",
       "      <th>2</th>\n",
       "      <td>Animation</td>\n",
       "      <td>0.020279</td>\n",
       "      <td>0.020408</td>\n",
       "      <td>0.012868</td>\n",
       "    </tr>\n",
       "    <tr>\n",
       "      <th>12</th>\n",
       "      <td>Music</td>\n",
       "      <td>0.013633</td>\n",
       "      <td>0.015306</td>\n",
       "      <td>0.167286</td>\n",
       "    </tr>\n",
       "    <tr>\n",
       "      <th>18</th>\n",
       "      <td>Thriller</td>\n",
       "      <td>0.061861</td>\n",
       "      <td>0.074830</td>\n",
       "      <td>1.296899</td>\n",
       "    </tr>\n",
       "    <tr>\n",
       "      <th>15</th>\n",
       "      <td>Romance</td>\n",
       "      <td>0.037832</td>\n",
       "      <td>0.051020</td>\n",
       "      <td>1.318810</td>\n",
       "    </tr>\n",
       "    <tr>\n",
       "      <th>7</th>\n",
       "      <td>Drama</td>\n",
       "      <td>0.252386</td>\n",
       "      <td>0.282313</td>\n",
       "      <td>2.992710</td>\n",
       "    </tr>\n",
       "    <tr>\n",
       "      <th>13</th>\n",
       "      <td>Mystery</td>\n",
       "      <td>0.025562</td>\n",
       "      <td>0.062925</td>\n",
       "      <td>3.736280</td>\n",
       "    </tr>\n",
       "    <tr>\n",
       "      <th>11</th>\n",
       "      <td>Horror</td>\n",
       "      <td>0.051636</td>\n",
       "      <td>0.120748</td>\n",
       "      <td>6.911231</td>\n",
       "    </tr>\n",
       "  </tbody>\n",
       "</table>\n",
       "</div>"
      ],
      "text/plain": [
       "          Genre  Count_All   Top_10p  Over_Performance\n",
       "0        Action   0.088105  0.047619         -4.048593\n",
       "1     Adventure   0.062202  0.028912         -3.329021\n",
       "5         Crime   0.046864  0.017007         -2.985755\n",
       "4        Comedy   0.137866  0.125850         -1.201605\n",
       "8        Family   0.017894  0.008503         -0.939026\n",
       "9       Fantasy   0.025392  0.017007         -0.838515\n",
       "10      History   0.010736  0.003401         -0.733484\n",
       "6   Documentary   0.071915  0.066327         -0.558894\n",
       "3     Biography   0.034083  0.028912         -0.517160\n",
       "19          War   0.004431  0.000000         -0.443081\n",
       "20      Western   0.003238  0.000000         -0.323790\n",
       "16       Sci-Fi   0.025222  0.022109         -0.311270\n",
       "17        Sport   0.008180  0.006803         -0.137724\n",
       "14         News   0.000682  0.000000         -0.068166\n",
       "2     Animation   0.020279  0.020408          0.012868\n",
       "12        Music   0.013633  0.015306          0.167286\n",
       "18     Thriller   0.061861  0.074830          1.296899\n",
       "15      Romance   0.037832  0.051020          1.318810\n",
       "7         Drama   0.252386  0.282313          2.992710\n",
       "13      Mystery   0.025562  0.062925          3.736280\n",
       "11       Horror   0.051636  0.120748          6.911231"
      ]
     },
     "execution_count": 48,
     "metadata": {},
     "output_type": "execute_result"
    }
   ],
   "source": [
    "genre_df['Over_Performance'] = (genre_df['Top_10p'] - genre_df['Count_All'])*100\n",
    "genre_df = genre_df.sort_values('Over_Performance', ascending=True)\n",
    "genre_df"
   ]
  },
  {
   "cell_type": "code",
   "execution_count": 49,
   "metadata": {
    "scrolled": true
   },
   "outputs": [
    {
     "data": {
      "image/png": "[encoded data removed]",
      "text/plain": [
       "<Figure size 576x576 with 1 Axes>"
      ]
     },
     "metadata": {
      "needs_background": "light"
     },
     "output_type": "display_data"
    }
   ],
   "source": [
    "# plot that compares both percentages\n",
    "f, ax = plt.subplots(figsize=(8, 8))\n",
    "\n",
    "g1 = genre_df['Top_10p']\n",
    "g2 = genre_df['Count_All']\n",
    "sns.barplot(x=g1, y='Genre', data=genre_df, color='yellow', alpha=0.5)\n",
    "sns.barplot(x=g2, y='Genre', data=genre_df, color='blue', alpha=0.3)\n",
    "\n",
    "ax.set(xlabel='Probability of Being in Collection')\n",
    "ax.set(ylabel='')\n",
    "ax.set(title='Genre Representation')\n",
    "sns.despine(left=True, bottom=True)"
   ]
  },
  {
   "cell_type": "code",
   "execution_count": 50,
   "metadata": {},
   "outputs": [
    {
     "data": {
      "image/png": "[encoded data removed]",
      "text/plain": [
       "<Figure size 720x720 with 1 Axes>"
      ]
     },
     "metadata": {},
     "output_type": "display_data"
    }
   ],
   "source": [
    "f, ax = plt.subplots(figsize=(10, 10), facecolor='black')\n",
    "\n",
    "y = genre_df['Genre']\n",
    "x = genre_df['Over_Performance']\n",
    "g = sns.barplot(x=x, y=y, palette=sns.color_palette('YlGnBu', 21))\n",
    "\n",
    "g.set_xlabel('Over/Under Performance, in Percent', fontsize=15, color='white')\n",
    "g.set_title('Over/Under Performance of the Top 10% vs. Population', fontsize=30, color='white')\n",
    "plt.tick_params(axis='both', which='major', labelsize=10, color='white')\n",
    "\n",
    "ax.grid(b=True, which='both', color='white', linewidth=0.3)\n",
    "ax.tick_params(colors='white')\n",
    "ax.set_facecolor('black')\n",
    "sns.despine(left=True, bottom=True)"
   ]
  },
  {
   "cell_type": "markdown",
   "metadata": {},
   "source": [
    "## Final Conclusions"
   ]
  },
  {
   "cell_type": "markdown",
   "metadata": {},
   "source": [
    "I would recommend:\n",
    "* Setting a maximum budget of $13.2 million\n",
    "* Releasing in either January, July, or November\n",
    "* Doing a genre that falls in any of the following genres:\n",
    "    * Horror\n",
    "    * Mystery\n",
    "    * Drama\n",
    "    * Romance\n",
    "    * Thriller\n",
    "    \n",
    "These categories are all over-represented in the top 10% population of the data indicating that they have a higher probability of turining a larger rate of return."
   ]
  },
  {
   "cell_type": "code",
   "execution_count": 51,
   "metadata": {},
   "outputs": [],
   "source": [
    "#Close connection to SQLite3 database\n",
    "conn.close()"
   ]
  }
 ],
 "metadata": {
  "kernelspec": {
   "display_name": "Python 3",
   "language": "python",
   "name": "python3"
  },
  "language_info": {
   "codemirror_mode": {
    "name": "ipython",
    "version": 3
   },
   "file_extension": ".py",
   "mimetype": "text/x-python",
   "name": "python",
   "nbconvert_exporter": "python",
   "pygments_lexer": "ipython3",
   "version": "3.8.8"
  },
  "toc": {
   "base_numbering": 1,
   "nav_menu": {},
   "number_sections": true,
   "sideBar": true,
   "skip_h1_title": false,
   "title_cell": "Table of Contents",
   "title_sidebar": "Contents",
   "toc_cell": true,
   "toc_position": {
    "height": "calc(100% - 180px)",
    "left": "10px",
    "top": "150px",
    "width": "266.390625px"
   },
   "toc_section_display": true,
   "toc_window_display": true
  }
 },
 "nbformat": 4,
 "nbformat_minor": 2
}
